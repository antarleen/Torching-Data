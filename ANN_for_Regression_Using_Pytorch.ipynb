{
  "nbformat": 4,
  "nbformat_minor": 0,
  "metadata": {
    "colab": {
      "name": "ANN for Regression Using Pytorch.ipynb",
      "provenance": [],
      "authorship_tag": "ABX9TyMmDr/YBhr2NUaajfKq8bJx",
      "include_colab_link": true
    },
    "kernelspec": {
      "name": "python3",
      "display_name": "Python 3"
    },
    "language_info": {
      "name": "python"
    }
  },
  "cells": [
    {
      "cell_type": "markdown",
      "metadata": {
        "id": "view-in-github",
        "colab_type": "text"
      },
      "source": [
        "<a href=\"https://colab.research.google.com/github/antarleen/Torching-Data/blob/main/ANN_for_Regression_Using_Pytorch.ipynb\" target=\"_parent\"><img src=\"https://colab.research.google.com/assets/colab-badge.svg\" alt=\"Open In Colab\"/></a>"
      ]
    },
    {
      "cell_type": "markdown",
      "metadata": {
        "id": "9jw64rGU60q9"
      },
      "source": [
        "# **Importing the libraries**"
      ]
    },
    {
      "cell_type": "code",
      "metadata": {
        "id": "ZiwHCU6nNBBF"
      },
      "source": [
        "import torch\n",
        "import torch.nn as nn\n",
        "import pandas as pd\n",
        "import numpy as np\n",
        "import matplotlib.pyplot as plt"
      ],
      "execution_count": 4,
      "outputs": []
    },
    {
      "cell_type": "markdown",
      "metadata": {
        "id": "Ysl9NBn169xx"
      },
      "source": [
        "# **Feature Engineering the dataset**"
      ]
    },
    {
      "cell_type": "code",
      "metadata": {
        "id": "0eBQxdoe65DG"
      },
      "source": [
        "df = pd.read_csv('NYCTaxiFares.csv')"
      ],
      "execution_count": 5,
      "outputs": []
    },
    {
      "cell_type": "code",
      "metadata": {
        "colab": {
          "base_uri": "https://localhost:8080/",
          "height": 204
        },
        "id": "2mE1gGo96y9u",
        "outputId": "905b5e41-347c-4f99-846d-36e1cc745ee0"
      },
      "source": [
        "df.head()"
      ],
      "execution_count": 6,
      "outputs": [
        {
          "output_type": "execute_result",
          "data": {
            "text/html": [
              "<div>\n",
              "<style scoped>\n",
              "    .dataframe tbody tr th:only-of-type {\n",
              "        vertical-align: middle;\n",
              "    }\n",
              "\n",
              "    .dataframe tbody tr th {\n",
              "        vertical-align: top;\n",
              "    }\n",
              "\n",
              "    .dataframe thead th {\n",
              "        text-align: right;\n",
              "    }\n",
              "</style>\n",
              "<table border=\"1\" class=\"dataframe\">\n",
              "  <thead>\n",
              "    <tr style=\"text-align: right;\">\n",
              "      <th></th>\n",
              "      <th>pickup_datetime</th>\n",
              "      <th>fare_amount</th>\n",
              "      <th>fare_class</th>\n",
              "      <th>pickup_longitude</th>\n",
              "      <th>pickup_latitude</th>\n",
              "      <th>dropoff_longitude</th>\n",
              "      <th>dropoff_latitude</th>\n",
              "      <th>passenger_count</th>\n",
              "    </tr>\n",
              "  </thead>\n",
              "  <tbody>\n",
              "    <tr>\n",
              "      <th>0</th>\n",
              "      <td>2010-04-19 08:17:56 UTC</td>\n",
              "      <td>6.5</td>\n",
              "      <td>0</td>\n",
              "      <td>-73.992365</td>\n",
              "      <td>40.730521</td>\n",
              "      <td>-73.975499</td>\n",
              "      <td>40.744746</td>\n",
              "      <td>1</td>\n",
              "    </tr>\n",
              "    <tr>\n",
              "      <th>1</th>\n",
              "      <td>2010-04-17 15:43:53 UTC</td>\n",
              "      <td>6.9</td>\n",
              "      <td>0</td>\n",
              "      <td>-73.990078</td>\n",
              "      <td>40.740558</td>\n",
              "      <td>-73.974232</td>\n",
              "      <td>40.744114</td>\n",
              "      <td>1</td>\n",
              "    </tr>\n",
              "    <tr>\n",
              "      <th>2</th>\n",
              "      <td>2010-04-17 11:23:26 UTC</td>\n",
              "      <td>10.1</td>\n",
              "      <td>1</td>\n",
              "      <td>-73.994149</td>\n",
              "      <td>40.751118</td>\n",
              "      <td>-73.960064</td>\n",
              "      <td>40.766235</td>\n",
              "      <td>2</td>\n",
              "    </tr>\n",
              "    <tr>\n",
              "      <th>3</th>\n",
              "      <td>2010-04-11 21:25:03 UTC</td>\n",
              "      <td>8.9</td>\n",
              "      <td>0</td>\n",
              "      <td>-73.990485</td>\n",
              "      <td>40.756422</td>\n",
              "      <td>-73.971205</td>\n",
              "      <td>40.748192</td>\n",
              "      <td>1</td>\n",
              "    </tr>\n",
              "    <tr>\n",
              "      <th>4</th>\n",
              "      <td>2010-04-17 02:19:01 UTC</td>\n",
              "      <td>19.7</td>\n",
              "      <td>1</td>\n",
              "      <td>-73.990976</td>\n",
              "      <td>40.734202</td>\n",
              "      <td>-73.905956</td>\n",
              "      <td>40.743115</td>\n",
              "      <td>1</td>\n",
              "    </tr>\n",
              "  </tbody>\n",
              "</table>\n",
              "</div>"
            ],
            "text/plain": [
              "           pickup_datetime  fare_amount  ...  dropoff_latitude  passenger_count\n",
              "0  2010-04-19 08:17:56 UTC          6.5  ...         40.744746                1\n",
              "1  2010-04-17 15:43:53 UTC          6.9  ...         40.744114                1\n",
              "2  2010-04-17 11:23:26 UTC         10.1  ...         40.766235                2\n",
              "3  2010-04-11 21:25:03 UTC          8.9  ...         40.748192                1\n",
              "4  2010-04-17 02:19:01 UTC         19.7  ...         40.743115                1\n",
              "\n",
              "[5 rows x 8 columns]"
            ]
          },
          "metadata": {
            "tags": []
          },
          "execution_count": 6
        }
      ]
    },
    {
      "cell_type": "code",
      "metadata": {
        "colab": {
          "base_uri": "https://localhost:8080/"
        },
        "id": "80fUAuqg7gbz",
        "outputId": "995ae687-bc08-49c9-d65e-6cc2a9955a2f"
      },
      "source": [
        "df['fare_amount'].describe()"
      ],
      "execution_count": 7,
      "outputs": [
        {
          "output_type": "execute_result",
          "data": {
            "text/plain": [
              "count    120000.000000\n",
              "mean         10.040326\n",
              "std           7.500134\n",
              "min           2.500000\n",
              "25%           5.700000\n",
              "50%           7.700000\n",
              "75%          11.300000\n",
              "max          49.900000\n",
              "Name: fare_amount, dtype: float64"
            ]
          },
          "metadata": {
            "tags": []
          },
          "execution_count": 7
        }
      ]
    },
    {
      "cell_type": "markdown",
      "metadata": {
        "id": "L7fl9y_1Bkqp"
      },
      "source": [
        "**Creating a Haversine Function to convert GPS into distance**"
      ]
    },
    {
      "cell_type": "code",
      "metadata": {
        "id": "YvVjrz3u8iSB"
      },
      "source": [
        "def haversine_distance(df,lat1,lat2,long1,long2):\n",
        "  r = 6371\n",
        "  phi1 = np.radians(df[lat1])\n",
        "  phi2 = np.radians(df[lat2])\n",
        "  lambda1 = np.radians(df[long1])\n",
        "  lambda2 = np.radians(df[long2])\n",
        "  delta_phi = phi2 - phi1\n",
        "  delta_lambda = lambda2 -lambda1\n",
        "  d = 2 * r * np.arcsin(np.sqrt(np.sin(delta_phi/2)**2+np.cos(phi1)*np.cos(phi2)*np.sin(delta_lambda/2)**2))\n",
        "  return d"
      ],
      "execution_count": 8,
      "outputs": []
    },
    {
      "cell_type": "code",
      "metadata": {
        "id": "_eanu_ibAdlG"
      },
      "source": [
        "df['distance'] = haversine_distance(df,'pickup_latitude','dropoff_latitude','pickup_longitude','dropoff_longitude')"
      ],
      "execution_count": 9,
      "outputs": []
    },
    {
      "cell_type": "code",
      "metadata": {
        "colab": {
          "base_uri": "https://localhost:8080/",
          "height": 204
        },
        "id": "kOTdJy-wBYi2",
        "outputId": "390add61-cce2-437f-bb63-a3d5d626c6c7"
      },
      "source": [
        "df.head()"
      ],
      "execution_count": 10,
      "outputs": [
        {
          "output_type": "execute_result",
          "data": {
            "text/html": [
              "<div>\n",
              "<style scoped>\n",
              "    .dataframe tbody tr th:only-of-type {\n",
              "        vertical-align: middle;\n",
              "    }\n",
              "\n",
              "    .dataframe tbody tr th {\n",
              "        vertical-align: top;\n",
              "    }\n",
              "\n",
              "    .dataframe thead th {\n",
              "        text-align: right;\n",
              "    }\n",
              "</style>\n",
              "<table border=\"1\" class=\"dataframe\">\n",
              "  <thead>\n",
              "    <tr style=\"text-align: right;\">\n",
              "      <th></th>\n",
              "      <th>pickup_datetime</th>\n",
              "      <th>fare_amount</th>\n",
              "      <th>fare_class</th>\n",
              "      <th>pickup_longitude</th>\n",
              "      <th>pickup_latitude</th>\n",
              "      <th>dropoff_longitude</th>\n",
              "      <th>dropoff_latitude</th>\n",
              "      <th>passenger_count</th>\n",
              "      <th>distance</th>\n",
              "    </tr>\n",
              "  </thead>\n",
              "  <tbody>\n",
              "    <tr>\n",
              "      <th>0</th>\n",
              "      <td>2010-04-19 08:17:56 UTC</td>\n",
              "      <td>6.5</td>\n",
              "      <td>0</td>\n",
              "      <td>-73.992365</td>\n",
              "      <td>40.730521</td>\n",
              "      <td>-73.975499</td>\n",
              "      <td>40.744746</td>\n",
              "      <td>1</td>\n",
              "      <td>2.126312</td>\n",
              "    </tr>\n",
              "    <tr>\n",
              "      <th>1</th>\n",
              "      <td>2010-04-17 15:43:53 UTC</td>\n",
              "      <td>6.9</td>\n",
              "      <td>0</td>\n",
              "      <td>-73.990078</td>\n",
              "      <td>40.740558</td>\n",
              "      <td>-73.974232</td>\n",
              "      <td>40.744114</td>\n",
              "      <td>1</td>\n",
              "      <td>1.392307</td>\n",
              "    </tr>\n",
              "    <tr>\n",
              "      <th>2</th>\n",
              "      <td>2010-04-17 11:23:26 UTC</td>\n",
              "      <td>10.1</td>\n",
              "      <td>1</td>\n",
              "      <td>-73.994149</td>\n",
              "      <td>40.751118</td>\n",
              "      <td>-73.960064</td>\n",
              "      <td>40.766235</td>\n",
              "      <td>2</td>\n",
              "      <td>3.326763</td>\n",
              "    </tr>\n",
              "    <tr>\n",
              "      <th>3</th>\n",
              "      <td>2010-04-11 21:25:03 UTC</td>\n",
              "      <td>8.9</td>\n",
              "      <td>0</td>\n",
              "      <td>-73.990485</td>\n",
              "      <td>40.756422</td>\n",
              "      <td>-73.971205</td>\n",
              "      <td>40.748192</td>\n",
              "      <td>1</td>\n",
              "      <td>1.864129</td>\n",
              "    </tr>\n",
              "    <tr>\n",
              "      <th>4</th>\n",
              "      <td>2010-04-17 02:19:01 UTC</td>\n",
              "      <td>19.7</td>\n",
              "      <td>1</td>\n",
              "      <td>-73.990976</td>\n",
              "      <td>40.734202</td>\n",
              "      <td>-73.905956</td>\n",
              "      <td>40.743115</td>\n",
              "      <td>1</td>\n",
              "      <td>7.231321</td>\n",
              "    </tr>\n",
              "  </tbody>\n",
              "</table>\n",
              "</div>"
            ],
            "text/plain": [
              "           pickup_datetime  fare_amount  ...  passenger_count  distance\n",
              "0  2010-04-19 08:17:56 UTC          6.5  ...                1  2.126312\n",
              "1  2010-04-17 15:43:53 UTC          6.9  ...                1  1.392307\n",
              "2  2010-04-17 11:23:26 UTC         10.1  ...                2  3.326763\n",
              "3  2010-04-11 21:25:03 UTC          8.9  ...                1  1.864129\n",
              "4  2010-04-17 02:19:01 UTC         19.7  ...                1  7.231321\n",
              "\n",
              "[5 rows x 9 columns]"
            ]
          },
          "metadata": {
            "tags": []
          },
          "execution_count": 10
        }
      ]
    },
    {
      "cell_type": "markdown",
      "metadata": {
        "id": "gA71HE-aDfG0"
      },
      "source": [
        "**Fixing the timestamp data to make it more relevant to our application**"
      ]
    },
    {
      "cell_type": "code",
      "metadata": {
        "id": "VjnXZbikB0iK"
      },
      "source": [
        "df['pickup_datetime'] = pd.to_datetime(df['pickup_datetime'])"
      ],
      "execution_count": 11,
      "outputs": []
    },
    {
      "cell_type": "code",
      "metadata": {
        "colab": {
          "base_uri": "https://localhost:8080/",
          "height": 204
        },
        "id": "J6M5bu2rCHfy",
        "outputId": "dd1ad8d9-ae95-4a20-ebb8-8164b5f0a7a7"
      },
      "source": [
        "df.head()"
      ],
      "execution_count": 12,
      "outputs": [
        {
          "output_type": "execute_result",
          "data": {
            "text/html": [
              "<div>\n",
              "<style scoped>\n",
              "    .dataframe tbody tr th:only-of-type {\n",
              "        vertical-align: middle;\n",
              "    }\n",
              "\n",
              "    .dataframe tbody tr th {\n",
              "        vertical-align: top;\n",
              "    }\n",
              "\n",
              "    .dataframe thead th {\n",
              "        text-align: right;\n",
              "    }\n",
              "</style>\n",
              "<table border=\"1\" class=\"dataframe\">\n",
              "  <thead>\n",
              "    <tr style=\"text-align: right;\">\n",
              "      <th></th>\n",
              "      <th>pickup_datetime</th>\n",
              "      <th>fare_amount</th>\n",
              "      <th>fare_class</th>\n",
              "      <th>pickup_longitude</th>\n",
              "      <th>pickup_latitude</th>\n",
              "      <th>dropoff_longitude</th>\n",
              "      <th>dropoff_latitude</th>\n",
              "      <th>passenger_count</th>\n",
              "      <th>distance</th>\n",
              "    </tr>\n",
              "  </thead>\n",
              "  <tbody>\n",
              "    <tr>\n",
              "      <th>0</th>\n",
              "      <td>2010-04-19 08:17:56+00:00</td>\n",
              "      <td>6.5</td>\n",
              "      <td>0</td>\n",
              "      <td>-73.992365</td>\n",
              "      <td>40.730521</td>\n",
              "      <td>-73.975499</td>\n",
              "      <td>40.744746</td>\n",
              "      <td>1</td>\n",
              "      <td>2.126312</td>\n",
              "    </tr>\n",
              "    <tr>\n",
              "      <th>1</th>\n",
              "      <td>2010-04-17 15:43:53+00:00</td>\n",
              "      <td>6.9</td>\n",
              "      <td>0</td>\n",
              "      <td>-73.990078</td>\n",
              "      <td>40.740558</td>\n",
              "      <td>-73.974232</td>\n",
              "      <td>40.744114</td>\n",
              "      <td>1</td>\n",
              "      <td>1.392307</td>\n",
              "    </tr>\n",
              "    <tr>\n",
              "      <th>2</th>\n",
              "      <td>2010-04-17 11:23:26+00:00</td>\n",
              "      <td>10.1</td>\n",
              "      <td>1</td>\n",
              "      <td>-73.994149</td>\n",
              "      <td>40.751118</td>\n",
              "      <td>-73.960064</td>\n",
              "      <td>40.766235</td>\n",
              "      <td>2</td>\n",
              "      <td>3.326763</td>\n",
              "    </tr>\n",
              "    <tr>\n",
              "      <th>3</th>\n",
              "      <td>2010-04-11 21:25:03+00:00</td>\n",
              "      <td>8.9</td>\n",
              "      <td>0</td>\n",
              "      <td>-73.990485</td>\n",
              "      <td>40.756422</td>\n",
              "      <td>-73.971205</td>\n",
              "      <td>40.748192</td>\n",
              "      <td>1</td>\n",
              "      <td>1.864129</td>\n",
              "    </tr>\n",
              "    <tr>\n",
              "      <th>4</th>\n",
              "      <td>2010-04-17 02:19:01+00:00</td>\n",
              "      <td>19.7</td>\n",
              "      <td>1</td>\n",
              "      <td>-73.990976</td>\n",
              "      <td>40.734202</td>\n",
              "      <td>-73.905956</td>\n",
              "      <td>40.743115</td>\n",
              "      <td>1</td>\n",
              "      <td>7.231321</td>\n",
              "    </tr>\n",
              "  </tbody>\n",
              "</table>\n",
              "</div>"
            ],
            "text/plain": [
              "            pickup_datetime  fare_amount  ...  passenger_count  distance\n",
              "0 2010-04-19 08:17:56+00:00          6.5  ...                1  2.126312\n",
              "1 2010-04-17 15:43:53+00:00          6.9  ...                1  1.392307\n",
              "2 2010-04-17 11:23:26+00:00         10.1  ...                2  3.326763\n",
              "3 2010-04-11 21:25:03+00:00          8.9  ...                1  1.864129\n",
              "4 2010-04-17 02:19:01+00:00         19.7  ...                1  7.231321\n",
              "\n",
              "[5 rows x 9 columns]"
            ]
          },
          "metadata": {
            "tags": []
          },
          "execution_count": 12
        }
      ]
    },
    {
      "cell_type": "code",
      "metadata": {
        "id": "anPlTenxClmq"
      },
      "source": [
        "df['EDTdate'] = df['pickup_datetime'] - pd.Timedelta(hours=4)"
      ],
      "execution_count": 13,
      "outputs": []
    },
    {
      "cell_type": "code",
      "metadata": {
        "colab": {
          "base_uri": "https://localhost:8080/",
          "height": 204
        },
        "id": "N7FVf7EbCrj0",
        "outputId": "e517f81e-ee71-41b6-fb24-0d8047751b56"
      },
      "source": [
        "df.head()"
      ],
      "execution_count": 14,
      "outputs": [
        {
          "output_type": "execute_result",
          "data": {
            "text/html": [
              "<div>\n",
              "<style scoped>\n",
              "    .dataframe tbody tr th:only-of-type {\n",
              "        vertical-align: middle;\n",
              "    }\n",
              "\n",
              "    .dataframe tbody tr th {\n",
              "        vertical-align: top;\n",
              "    }\n",
              "\n",
              "    .dataframe thead th {\n",
              "        text-align: right;\n",
              "    }\n",
              "</style>\n",
              "<table border=\"1\" class=\"dataframe\">\n",
              "  <thead>\n",
              "    <tr style=\"text-align: right;\">\n",
              "      <th></th>\n",
              "      <th>pickup_datetime</th>\n",
              "      <th>fare_amount</th>\n",
              "      <th>fare_class</th>\n",
              "      <th>pickup_longitude</th>\n",
              "      <th>pickup_latitude</th>\n",
              "      <th>dropoff_longitude</th>\n",
              "      <th>dropoff_latitude</th>\n",
              "      <th>passenger_count</th>\n",
              "      <th>distance</th>\n",
              "      <th>EDTdate</th>\n",
              "    </tr>\n",
              "  </thead>\n",
              "  <tbody>\n",
              "    <tr>\n",
              "      <th>0</th>\n",
              "      <td>2010-04-19 08:17:56+00:00</td>\n",
              "      <td>6.5</td>\n",
              "      <td>0</td>\n",
              "      <td>-73.992365</td>\n",
              "      <td>40.730521</td>\n",
              "      <td>-73.975499</td>\n",
              "      <td>40.744746</td>\n",
              "      <td>1</td>\n",
              "      <td>2.126312</td>\n",
              "      <td>2010-04-19 04:17:56+00:00</td>\n",
              "    </tr>\n",
              "    <tr>\n",
              "      <th>1</th>\n",
              "      <td>2010-04-17 15:43:53+00:00</td>\n",
              "      <td>6.9</td>\n",
              "      <td>0</td>\n",
              "      <td>-73.990078</td>\n",
              "      <td>40.740558</td>\n",
              "      <td>-73.974232</td>\n",
              "      <td>40.744114</td>\n",
              "      <td>1</td>\n",
              "      <td>1.392307</td>\n",
              "      <td>2010-04-17 11:43:53+00:00</td>\n",
              "    </tr>\n",
              "    <tr>\n",
              "      <th>2</th>\n",
              "      <td>2010-04-17 11:23:26+00:00</td>\n",
              "      <td>10.1</td>\n",
              "      <td>1</td>\n",
              "      <td>-73.994149</td>\n",
              "      <td>40.751118</td>\n",
              "      <td>-73.960064</td>\n",
              "      <td>40.766235</td>\n",
              "      <td>2</td>\n",
              "      <td>3.326763</td>\n",
              "      <td>2010-04-17 07:23:26+00:00</td>\n",
              "    </tr>\n",
              "    <tr>\n",
              "      <th>3</th>\n",
              "      <td>2010-04-11 21:25:03+00:00</td>\n",
              "      <td>8.9</td>\n",
              "      <td>0</td>\n",
              "      <td>-73.990485</td>\n",
              "      <td>40.756422</td>\n",
              "      <td>-73.971205</td>\n",
              "      <td>40.748192</td>\n",
              "      <td>1</td>\n",
              "      <td>1.864129</td>\n",
              "      <td>2010-04-11 17:25:03+00:00</td>\n",
              "    </tr>\n",
              "    <tr>\n",
              "      <th>4</th>\n",
              "      <td>2010-04-17 02:19:01+00:00</td>\n",
              "      <td>19.7</td>\n",
              "      <td>1</td>\n",
              "      <td>-73.990976</td>\n",
              "      <td>40.734202</td>\n",
              "      <td>-73.905956</td>\n",
              "      <td>40.743115</td>\n",
              "      <td>1</td>\n",
              "      <td>7.231321</td>\n",
              "      <td>2010-04-16 22:19:01+00:00</td>\n",
              "    </tr>\n",
              "  </tbody>\n",
              "</table>\n",
              "</div>"
            ],
            "text/plain": [
              "            pickup_datetime  fare_amount  ...  distance                   EDTdate\n",
              "0 2010-04-19 08:17:56+00:00          6.5  ...  2.126312 2010-04-19 04:17:56+00:00\n",
              "1 2010-04-17 15:43:53+00:00          6.9  ...  1.392307 2010-04-17 11:43:53+00:00\n",
              "2 2010-04-17 11:23:26+00:00         10.1  ...  3.326763 2010-04-17 07:23:26+00:00\n",
              "3 2010-04-11 21:25:03+00:00          8.9  ...  1.864129 2010-04-11 17:25:03+00:00\n",
              "4 2010-04-17 02:19:01+00:00         19.7  ...  7.231321 2010-04-16 22:19:01+00:00\n",
              "\n",
              "[5 rows x 10 columns]"
            ]
          },
          "metadata": {
            "tags": []
          },
          "execution_count": 14
        }
      ]
    },
    {
      "cell_type": "code",
      "metadata": {
        "id": "xvsN35ZsDdYA"
      },
      "source": [
        "df['Hour'] = df['EDTdate'].dt.hour"
      ],
      "execution_count": 15,
      "outputs": []
    },
    {
      "cell_type": "code",
      "metadata": {
        "colab": {
          "base_uri": "https://localhost:8080/",
          "height": 204
        },
        "id": "4ehsSlj8D8sZ",
        "outputId": "0b347173-eb18-4a75-c768-435bd494c093"
      },
      "source": [
        "df.head()"
      ],
      "execution_count": 16,
      "outputs": [
        {
          "output_type": "execute_result",
          "data": {
            "text/html": [
              "<div>\n",
              "<style scoped>\n",
              "    .dataframe tbody tr th:only-of-type {\n",
              "        vertical-align: middle;\n",
              "    }\n",
              "\n",
              "    .dataframe tbody tr th {\n",
              "        vertical-align: top;\n",
              "    }\n",
              "\n",
              "    .dataframe thead th {\n",
              "        text-align: right;\n",
              "    }\n",
              "</style>\n",
              "<table border=\"1\" class=\"dataframe\">\n",
              "  <thead>\n",
              "    <tr style=\"text-align: right;\">\n",
              "      <th></th>\n",
              "      <th>pickup_datetime</th>\n",
              "      <th>fare_amount</th>\n",
              "      <th>fare_class</th>\n",
              "      <th>pickup_longitude</th>\n",
              "      <th>pickup_latitude</th>\n",
              "      <th>dropoff_longitude</th>\n",
              "      <th>dropoff_latitude</th>\n",
              "      <th>passenger_count</th>\n",
              "      <th>distance</th>\n",
              "      <th>EDTdate</th>\n",
              "      <th>Hour</th>\n",
              "    </tr>\n",
              "  </thead>\n",
              "  <tbody>\n",
              "    <tr>\n",
              "      <th>0</th>\n",
              "      <td>2010-04-19 08:17:56+00:00</td>\n",
              "      <td>6.5</td>\n",
              "      <td>0</td>\n",
              "      <td>-73.992365</td>\n",
              "      <td>40.730521</td>\n",
              "      <td>-73.975499</td>\n",
              "      <td>40.744746</td>\n",
              "      <td>1</td>\n",
              "      <td>2.126312</td>\n",
              "      <td>2010-04-19 04:17:56+00:00</td>\n",
              "      <td>4</td>\n",
              "    </tr>\n",
              "    <tr>\n",
              "      <th>1</th>\n",
              "      <td>2010-04-17 15:43:53+00:00</td>\n",
              "      <td>6.9</td>\n",
              "      <td>0</td>\n",
              "      <td>-73.990078</td>\n",
              "      <td>40.740558</td>\n",
              "      <td>-73.974232</td>\n",
              "      <td>40.744114</td>\n",
              "      <td>1</td>\n",
              "      <td>1.392307</td>\n",
              "      <td>2010-04-17 11:43:53+00:00</td>\n",
              "      <td>11</td>\n",
              "    </tr>\n",
              "    <tr>\n",
              "      <th>2</th>\n",
              "      <td>2010-04-17 11:23:26+00:00</td>\n",
              "      <td>10.1</td>\n",
              "      <td>1</td>\n",
              "      <td>-73.994149</td>\n",
              "      <td>40.751118</td>\n",
              "      <td>-73.960064</td>\n",
              "      <td>40.766235</td>\n",
              "      <td>2</td>\n",
              "      <td>3.326763</td>\n",
              "      <td>2010-04-17 07:23:26+00:00</td>\n",
              "      <td>7</td>\n",
              "    </tr>\n",
              "    <tr>\n",
              "      <th>3</th>\n",
              "      <td>2010-04-11 21:25:03+00:00</td>\n",
              "      <td>8.9</td>\n",
              "      <td>0</td>\n",
              "      <td>-73.990485</td>\n",
              "      <td>40.756422</td>\n",
              "      <td>-73.971205</td>\n",
              "      <td>40.748192</td>\n",
              "      <td>1</td>\n",
              "      <td>1.864129</td>\n",
              "      <td>2010-04-11 17:25:03+00:00</td>\n",
              "      <td>17</td>\n",
              "    </tr>\n",
              "    <tr>\n",
              "      <th>4</th>\n",
              "      <td>2010-04-17 02:19:01+00:00</td>\n",
              "      <td>19.7</td>\n",
              "      <td>1</td>\n",
              "      <td>-73.990976</td>\n",
              "      <td>40.734202</td>\n",
              "      <td>-73.905956</td>\n",
              "      <td>40.743115</td>\n",
              "      <td>1</td>\n",
              "      <td>7.231321</td>\n",
              "      <td>2010-04-16 22:19:01+00:00</td>\n",
              "      <td>22</td>\n",
              "    </tr>\n",
              "  </tbody>\n",
              "</table>\n",
              "</div>"
            ],
            "text/plain": [
              "            pickup_datetime  fare_amount  ...                   EDTdate  Hour\n",
              "0 2010-04-19 08:17:56+00:00          6.5  ... 2010-04-19 04:17:56+00:00     4\n",
              "1 2010-04-17 15:43:53+00:00          6.9  ... 2010-04-17 11:43:53+00:00    11\n",
              "2 2010-04-17 11:23:26+00:00         10.1  ... 2010-04-17 07:23:26+00:00     7\n",
              "3 2010-04-11 21:25:03+00:00          8.9  ... 2010-04-11 17:25:03+00:00    17\n",
              "4 2010-04-17 02:19:01+00:00         19.7  ... 2010-04-16 22:19:01+00:00    22\n",
              "\n",
              "[5 rows x 11 columns]"
            ]
          },
          "metadata": {
            "tags": []
          },
          "execution_count": 16
        }
      ]
    },
    {
      "cell_type": "code",
      "metadata": {
        "colab": {
          "base_uri": "https://localhost:8080/",
          "height": 204
        },
        "id": "-0bTdi8sEBz5",
        "outputId": "725b4522-c5e5-4575-8cc2-ae3455bcc3ba"
      },
      "source": [
        "df['AMorPM'] = np.where(df['Hour']<12,'AM','PM')\n",
        "df.head()"
      ],
      "execution_count": 17,
      "outputs": [
        {
          "output_type": "execute_result",
          "data": {
            "text/html": [
              "<div>\n",
              "<style scoped>\n",
              "    .dataframe tbody tr th:only-of-type {\n",
              "        vertical-align: middle;\n",
              "    }\n",
              "\n",
              "    .dataframe tbody tr th {\n",
              "        vertical-align: top;\n",
              "    }\n",
              "\n",
              "    .dataframe thead th {\n",
              "        text-align: right;\n",
              "    }\n",
              "</style>\n",
              "<table border=\"1\" class=\"dataframe\">\n",
              "  <thead>\n",
              "    <tr style=\"text-align: right;\">\n",
              "      <th></th>\n",
              "      <th>pickup_datetime</th>\n",
              "      <th>fare_amount</th>\n",
              "      <th>fare_class</th>\n",
              "      <th>pickup_longitude</th>\n",
              "      <th>pickup_latitude</th>\n",
              "      <th>dropoff_longitude</th>\n",
              "      <th>dropoff_latitude</th>\n",
              "      <th>passenger_count</th>\n",
              "      <th>distance</th>\n",
              "      <th>EDTdate</th>\n",
              "      <th>Hour</th>\n",
              "      <th>AMorPM</th>\n",
              "    </tr>\n",
              "  </thead>\n",
              "  <tbody>\n",
              "    <tr>\n",
              "      <th>0</th>\n",
              "      <td>2010-04-19 08:17:56+00:00</td>\n",
              "      <td>6.5</td>\n",
              "      <td>0</td>\n",
              "      <td>-73.992365</td>\n",
              "      <td>40.730521</td>\n",
              "      <td>-73.975499</td>\n",
              "      <td>40.744746</td>\n",
              "      <td>1</td>\n",
              "      <td>2.126312</td>\n",
              "      <td>2010-04-19 04:17:56+00:00</td>\n",
              "      <td>4</td>\n",
              "      <td>AM</td>\n",
              "    </tr>\n",
              "    <tr>\n",
              "      <th>1</th>\n",
              "      <td>2010-04-17 15:43:53+00:00</td>\n",
              "      <td>6.9</td>\n",
              "      <td>0</td>\n",
              "      <td>-73.990078</td>\n",
              "      <td>40.740558</td>\n",
              "      <td>-73.974232</td>\n",
              "      <td>40.744114</td>\n",
              "      <td>1</td>\n",
              "      <td>1.392307</td>\n",
              "      <td>2010-04-17 11:43:53+00:00</td>\n",
              "      <td>11</td>\n",
              "      <td>AM</td>\n",
              "    </tr>\n",
              "    <tr>\n",
              "      <th>2</th>\n",
              "      <td>2010-04-17 11:23:26+00:00</td>\n",
              "      <td>10.1</td>\n",
              "      <td>1</td>\n",
              "      <td>-73.994149</td>\n",
              "      <td>40.751118</td>\n",
              "      <td>-73.960064</td>\n",
              "      <td>40.766235</td>\n",
              "      <td>2</td>\n",
              "      <td>3.326763</td>\n",
              "      <td>2010-04-17 07:23:26+00:00</td>\n",
              "      <td>7</td>\n",
              "      <td>AM</td>\n",
              "    </tr>\n",
              "    <tr>\n",
              "      <th>3</th>\n",
              "      <td>2010-04-11 21:25:03+00:00</td>\n",
              "      <td>8.9</td>\n",
              "      <td>0</td>\n",
              "      <td>-73.990485</td>\n",
              "      <td>40.756422</td>\n",
              "      <td>-73.971205</td>\n",
              "      <td>40.748192</td>\n",
              "      <td>1</td>\n",
              "      <td>1.864129</td>\n",
              "      <td>2010-04-11 17:25:03+00:00</td>\n",
              "      <td>17</td>\n",
              "      <td>PM</td>\n",
              "    </tr>\n",
              "    <tr>\n",
              "      <th>4</th>\n",
              "      <td>2010-04-17 02:19:01+00:00</td>\n",
              "      <td>19.7</td>\n",
              "      <td>1</td>\n",
              "      <td>-73.990976</td>\n",
              "      <td>40.734202</td>\n",
              "      <td>-73.905956</td>\n",
              "      <td>40.743115</td>\n",
              "      <td>1</td>\n",
              "      <td>7.231321</td>\n",
              "      <td>2010-04-16 22:19:01+00:00</td>\n",
              "      <td>22</td>\n",
              "      <td>PM</td>\n",
              "    </tr>\n",
              "  </tbody>\n",
              "</table>\n",
              "</div>"
            ],
            "text/plain": [
              "            pickup_datetime  fare_amount  ...  Hour  AMorPM\n",
              "0 2010-04-19 08:17:56+00:00          6.5  ...     4      AM\n",
              "1 2010-04-17 15:43:53+00:00          6.9  ...    11      AM\n",
              "2 2010-04-17 11:23:26+00:00         10.1  ...     7      AM\n",
              "3 2010-04-11 21:25:03+00:00          8.9  ...    17      PM\n",
              "4 2010-04-17 02:19:01+00:00         19.7  ...    22      PM\n",
              "\n",
              "[5 rows x 12 columns]"
            ]
          },
          "metadata": {
            "tags": []
          },
          "execution_count": 17
        }
      ]
    },
    {
      "cell_type": "code",
      "metadata": {
        "colab": {
          "base_uri": "https://localhost:8080/",
          "height": 289
        },
        "id": "yWyNrauOEoIT",
        "outputId": "58f26d31-ad7d-4f32-89c2-d1848178b2c0"
      },
      "source": [
        "df['Weekday'] = df['EDTdate'].dt.strftime(\"%a\")\n",
        "df.head()"
      ],
      "execution_count": 18,
      "outputs": [
        {
          "output_type": "execute_result",
          "data": {
            "text/html": [
              "<div>\n",
              "<style scoped>\n",
              "    .dataframe tbody tr th:only-of-type {\n",
              "        vertical-align: middle;\n",
              "    }\n",
              "\n",
              "    .dataframe tbody tr th {\n",
              "        vertical-align: top;\n",
              "    }\n",
              "\n",
              "    .dataframe thead th {\n",
              "        text-align: right;\n",
              "    }\n",
              "</style>\n",
              "<table border=\"1\" class=\"dataframe\">\n",
              "  <thead>\n",
              "    <tr style=\"text-align: right;\">\n",
              "      <th></th>\n",
              "      <th>pickup_datetime</th>\n",
              "      <th>fare_amount</th>\n",
              "      <th>fare_class</th>\n",
              "      <th>pickup_longitude</th>\n",
              "      <th>pickup_latitude</th>\n",
              "      <th>dropoff_longitude</th>\n",
              "      <th>dropoff_latitude</th>\n",
              "      <th>passenger_count</th>\n",
              "      <th>distance</th>\n",
              "      <th>EDTdate</th>\n",
              "      <th>Hour</th>\n",
              "      <th>AMorPM</th>\n",
              "      <th>Weekday</th>\n",
              "    </tr>\n",
              "  </thead>\n",
              "  <tbody>\n",
              "    <tr>\n",
              "      <th>0</th>\n",
              "      <td>2010-04-19 08:17:56+00:00</td>\n",
              "      <td>6.5</td>\n",
              "      <td>0</td>\n",
              "      <td>-73.992365</td>\n",
              "      <td>40.730521</td>\n",
              "      <td>-73.975499</td>\n",
              "      <td>40.744746</td>\n",
              "      <td>1</td>\n",
              "      <td>2.126312</td>\n",
              "      <td>2010-04-19 04:17:56+00:00</td>\n",
              "      <td>4</td>\n",
              "      <td>AM</td>\n",
              "      <td>Mon</td>\n",
              "    </tr>\n",
              "    <tr>\n",
              "      <th>1</th>\n",
              "      <td>2010-04-17 15:43:53+00:00</td>\n",
              "      <td>6.9</td>\n",
              "      <td>0</td>\n",
              "      <td>-73.990078</td>\n",
              "      <td>40.740558</td>\n",
              "      <td>-73.974232</td>\n",
              "      <td>40.744114</td>\n",
              "      <td>1</td>\n",
              "      <td>1.392307</td>\n",
              "      <td>2010-04-17 11:43:53+00:00</td>\n",
              "      <td>11</td>\n",
              "      <td>AM</td>\n",
              "      <td>Sat</td>\n",
              "    </tr>\n",
              "    <tr>\n",
              "      <th>2</th>\n",
              "      <td>2010-04-17 11:23:26+00:00</td>\n",
              "      <td>10.1</td>\n",
              "      <td>1</td>\n",
              "      <td>-73.994149</td>\n",
              "      <td>40.751118</td>\n",
              "      <td>-73.960064</td>\n",
              "      <td>40.766235</td>\n",
              "      <td>2</td>\n",
              "      <td>3.326763</td>\n",
              "      <td>2010-04-17 07:23:26+00:00</td>\n",
              "      <td>7</td>\n",
              "      <td>AM</td>\n",
              "      <td>Sat</td>\n",
              "    </tr>\n",
              "    <tr>\n",
              "      <th>3</th>\n",
              "      <td>2010-04-11 21:25:03+00:00</td>\n",
              "      <td>8.9</td>\n",
              "      <td>0</td>\n",
              "      <td>-73.990485</td>\n",
              "      <td>40.756422</td>\n",
              "      <td>-73.971205</td>\n",
              "      <td>40.748192</td>\n",
              "      <td>1</td>\n",
              "      <td>1.864129</td>\n",
              "      <td>2010-04-11 17:25:03+00:00</td>\n",
              "      <td>17</td>\n",
              "      <td>PM</td>\n",
              "      <td>Sun</td>\n",
              "    </tr>\n",
              "    <tr>\n",
              "      <th>4</th>\n",
              "      <td>2010-04-17 02:19:01+00:00</td>\n",
              "      <td>19.7</td>\n",
              "      <td>1</td>\n",
              "      <td>-73.990976</td>\n",
              "      <td>40.734202</td>\n",
              "      <td>-73.905956</td>\n",
              "      <td>40.743115</td>\n",
              "      <td>1</td>\n",
              "      <td>7.231321</td>\n",
              "      <td>2010-04-16 22:19:01+00:00</td>\n",
              "      <td>22</td>\n",
              "      <td>PM</td>\n",
              "      <td>Fri</td>\n",
              "    </tr>\n",
              "  </tbody>\n",
              "</table>\n",
              "</div>"
            ],
            "text/plain": [
              "            pickup_datetime  fare_amount  fare_class  ...  Hour  AMorPM  Weekday\n",
              "0 2010-04-19 08:17:56+00:00          6.5           0  ...     4      AM      Mon\n",
              "1 2010-04-17 15:43:53+00:00          6.9           0  ...    11      AM      Sat\n",
              "2 2010-04-17 11:23:26+00:00         10.1           1  ...     7      AM      Sat\n",
              "3 2010-04-11 21:25:03+00:00          8.9           0  ...    17      PM      Sun\n",
              "4 2010-04-17 02:19:01+00:00         19.7           1  ...    22      PM      Fri\n",
              "\n",
              "[5 rows x 13 columns]"
            ]
          },
          "metadata": {
            "tags": []
          },
          "execution_count": 18
        }
      ]
    },
    {
      "cell_type": "code",
      "metadata": {
        "colab": {
          "base_uri": "https://localhost:8080/"
        },
        "id": "tFgkZKY2ExqO",
        "outputId": "41c1356f-17e9-44a1-9a39-42fdb811cf31"
      },
      "source": [
        "df.columns"
      ],
      "execution_count": 19,
      "outputs": [
        {
          "output_type": "execute_result",
          "data": {
            "text/plain": [
              "Index(['pickup_datetime', 'fare_amount', 'fare_class', 'pickup_longitude',\n",
              "       'pickup_latitude', 'dropoff_longitude', 'dropoff_latitude',\n",
              "       'passenger_count', 'distance', 'EDTdate', 'Hour', 'AMorPM', 'Weekday'],\n",
              "      dtype='object')"
            ]
          },
          "metadata": {
            "tags": []
          },
          "execution_count": 19
        }
      ]
    },
    {
      "cell_type": "markdown",
      "metadata": {
        "id": "Hs14XI2zewso"
      },
      "source": [
        "**Dealing with categorical data**"
      ]
    },
    {
      "cell_type": "code",
      "metadata": {
        "id": "egM0ynr_cd1L"
      },
      "source": [
        "cat_cols = ['Hour', 'AMorPM', 'Weekday']\n",
        "cont_cols = ['pickup_longitude','pickup_latitude', 'dropoff_longitude', 'dropoff_latitude','passenger_count', 'distance'] \n",
        "y_col = ['fare_amount']"
      ],
      "execution_count": 20,
      "outputs": []
    },
    {
      "cell_type": "code",
      "metadata": {
        "colab": {
          "base_uri": "https://localhost:8080/"
        },
        "id": "FTwdNBs-dAjP",
        "outputId": "a37c4831-0d44-4072-a4dd-26711a04008a"
      },
      "source": [
        "df.dtypes"
      ],
      "execution_count": 21,
      "outputs": [
        {
          "output_type": "execute_result",
          "data": {
            "text/plain": [
              "pickup_datetime      datetime64[ns, UTC]\n",
              "fare_amount                      float64\n",
              "fare_class                         int64\n",
              "pickup_longitude                 float64\n",
              "pickup_latitude                  float64\n",
              "dropoff_longitude                float64\n",
              "dropoff_latitude                 float64\n",
              "passenger_count                    int64\n",
              "distance                         float64\n",
              "EDTdate              datetime64[ns, UTC]\n",
              "Hour                               int64\n",
              "AMorPM                            object\n",
              "Weekday                           object\n",
              "dtype: object"
            ]
          },
          "metadata": {
            "tags": []
          },
          "execution_count": 21
        }
      ]
    },
    {
      "cell_type": "code",
      "metadata": {
        "id": "Gbx_-SlpdC7r"
      },
      "source": [
        "for cat in cat_cols:\n",
        "  df[cat] = df[cat].astype('category')"
      ],
      "execution_count": 22,
      "outputs": []
    },
    {
      "cell_type": "code",
      "metadata": {
        "id": "ji-JLjIEdR43"
      },
      "source": [
        "hr = df['Hour'].cat.codes.values\n",
        "wkdy = df['Weekday'].cat.codes.values\n",
        "ampm = df['AMorPM'].cat.codes.values"
      ],
      "execution_count": 23,
      "outputs": []
    },
    {
      "cell_type": "code",
      "metadata": {
        "colab": {
          "base_uri": "https://localhost:8080/"
        },
        "id": "z4EZdaiJdoLx",
        "outputId": "219d97be-6b60-419a-b2fe-c15b656dd3cd"
      },
      "source": [
        "cats = np.stack([hr,ampm,wkdy],axis=1)\n",
        "cats"
      ],
      "execution_count": 24,
      "outputs": [
        {
          "output_type": "execute_result",
          "data": {
            "text/plain": [
              "array([[ 4,  0,  1],\n",
              "       [11,  0,  2],\n",
              "       [ 7,  0,  2],\n",
              "       ...,\n",
              "       [14,  1,  3],\n",
              "       [ 4,  0,  5],\n",
              "       [12,  1,  2]], dtype=int8)"
            ]
          },
          "metadata": {
            "tags": []
          },
          "execution_count": 24
        }
      ]
    },
    {
      "cell_type": "code",
      "metadata": {
        "id": "bRWYE4sPfW9D"
      },
      "source": [
        "cats = torch.tensor(cats,dtype=torch.int64)"
      ],
      "execution_count": 25,
      "outputs": []
    },
    {
      "cell_type": "markdown",
      "metadata": {
        "id": "cwakbDpufjrO"
      },
      "source": [
        "**Dealing with continuous data**"
      ]
    },
    {
      "cell_type": "code",
      "metadata": {
        "colab": {
          "base_uri": "https://localhost:8080/"
        },
        "id": "fVxs_rPZfoDm",
        "outputId": "e598c045-00c6-4764-8436-b51aefeb4ac8"
      },
      "source": [
        "conts = np.stack([df[col].values for col in cont_cols],1)\n",
        "conts = torch.tensor(conts,dtype=torch.float)\n",
        "conts"
      ],
      "execution_count": 26,
      "outputs": [
        {
          "output_type": "execute_result",
          "data": {
            "text/plain": [
              "tensor([[-73.9924,  40.7305, -73.9755,  40.7447,   1.0000,   2.1263],\n",
              "        [-73.9901,  40.7406, -73.9742,  40.7441,   1.0000,   1.3923],\n",
              "        [-73.9941,  40.7511, -73.9601,  40.7662,   2.0000,   3.3268],\n",
              "        ...,\n",
              "        [-73.9886,  40.7498, -74.0115,  40.7078,   3.0000,   5.0525],\n",
              "        [-74.0044,  40.7245, -73.9927,  40.7308,   1.0000,   1.2089],\n",
              "        [-73.9554,  40.7719, -73.9676,  40.7630,   3.0000,   1.4274]])"
            ]
          },
          "metadata": {
            "tags": []
          },
          "execution_count": 26
        }
      ]
    },
    {
      "cell_type": "code",
      "metadata": {
        "id": "WLg7EfG6gTIW"
      },
      "source": [
        "y = torch.tensor(df[y_col].values,dtype=torch.float)"
      ],
      "execution_count": 27,
      "outputs": []
    },
    {
      "cell_type": "code",
      "metadata": {
        "colab": {
          "base_uri": "https://localhost:8080/"
        },
        "id": "gG6RrjdzgqSI",
        "outputId": "232c4a2c-fdcc-4ffa-c371-83b67a22b584"
      },
      "source": [
        "cats.shape"
      ],
      "execution_count": 28,
      "outputs": [
        {
          "output_type": "execute_result",
          "data": {
            "text/plain": [
              "torch.Size([120000, 3])"
            ]
          },
          "metadata": {
            "tags": []
          },
          "execution_count": 28
        }
      ]
    },
    {
      "cell_type": "code",
      "metadata": {
        "colab": {
          "base_uri": "https://localhost:8080/"
        },
        "id": "7UeSsxj7gtJ5",
        "outputId": "c288fc4e-9c35-4df9-a595-14c94f6581c2"
      },
      "source": [
        "conts.shape"
      ],
      "execution_count": 29,
      "outputs": [
        {
          "output_type": "execute_result",
          "data": {
            "text/plain": [
              "torch.Size([120000, 6])"
            ]
          },
          "metadata": {
            "tags": []
          },
          "execution_count": 29
        }
      ]
    },
    {
      "cell_type": "code",
      "metadata": {
        "colab": {
          "base_uri": "https://localhost:8080/"
        },
        "id": "sG37BI-igvT4",
        "outputId": "cf30bc2c-3d3a-4f8b-b636-d6bf5fc2e33e"
      },
      "source": [
        "y.shape"
      ],
      "execution_count": 30,
      "outputs": [
        {
          "output_type": "execute_result",
          "data": {
            "text/plain": [
              "torch.Size([120000, 1])"
            ]
          },
          "metadata": {
            "tags": []
          },
          "execution_count": 30
        }
      ]
    },
    {
      "cell_type": "markdown",
      "metadata": {
        "id": "_c4OrjDIhbfD"
      },
      "source": [
        "**Setting the embedding sizes in the categories(One Hot Encoding)**"
      ]
    },
    {
      "cell_type": "code",
      "metadata": {
        "colab": {
          "base_uri": "https://localhost:8080/"
        },
        "id": "rLVXylhvhRQA",
        "outputId": "542cb32d-e043-416d-a122-c86b20b4984b"
      },
      "source": [
        "cat_sizes = [len(df[col].cat.categories) for col in cat_cols]\n",
        "cat_sizes"
      ],
      "execution_count": 31,
      "outputs": [
        {
          "output_type": "execute_result",
          "data": {
            "text/plain": [
              "[24, 2, 7]"
            ]
          },
          "metadata": {
            "tags": []
          },
          "execution_count": 31
        }
      ]
    },
    {
      "cell_type": "code",
      "metadata": {
        "colab": {
          "base_uri": "https://localhost:8080/"
        },
        "id": "VqNp2vhDhibb",
        "outputId": "94523bb5-a850-4f1d-eb32-c18506002c21"
      },
      "source": [
        "# Emebedding sizes is the number of unique entries divided by two but we max out at 50\n",
        "emb_sizes = [(size,min(50,(size+1)//2)) for size in cat_sizes]\n",
        "emb_sizes"
      ],
      "execution_count": 32,
      "outputs": [
        {
          "output_type": "execute_result",
          "data": {
            "text/plain": [
              "[(24, 12), (2, 1), (7, 4)]"
            ]
          },
          "metadata": {
            "tags": []
          },
          "execution_count": 32
        }
      ]
    },
    {
      "cell_type": "markdown",
      "metadata": {
        "id": "SfOydjBjn9hi"
      },
      "source": [
        "# **Creating the ANN Model**"
      ]
    },
    {
      "cell_type": "markdown",
      "metadata": {
        "id": "2Cx8d-JEoDic"
      },
      "source": [
        "Creating the Embedding layer"
      ]
    },
    {
      "cell_type": "code",
      "metadata": {
        "id": "5uPZhtqRp6VU"
      },
      "source": [
        "class TabularModel(nn.Module):\n",
        "  def __init__(self,emb_sizes,n_cont,out_size,layers,p=0.5):\n",
        "    super().__init__()\n",
        "    self.embeds = nn.ModuleList([nn.Embedding(ni,nf) for ni,nf in emb_sizes])\n",
        "    self.emb_drop = nn.Dropout(p)\n",
        "    self.bn_cont = nn.BatchNorm1d(n_cont) #Normalizes the continuous data \n",
        "\n",
        "    layerlist=[]\n",
        "    n_embs = sum([nf for ni,nf in emb_sizes])\n",
        "    n_in = n_embs + n_cont\n",
        "\n",
        "    for i in layers:\n",
        "      layerlist.append(nn.Linear(n_in,i))\n",
        "      layerlist.append(nn.ReLU(inplace=True))\n",
        "      layerlist.append(nn.BatchNorm1d(i))\n",
        "      layerlist.append(nn.Dropout(p))\n",
        "      n_in = i\n",
        "\n",
        "    layerlist.append(nn.Linear(layers[-1],out_size))\n",
        "            \n",
        "    self.layers = nn.Sequential(*layerlist)\n",
        "    \n",
        "  def forward(self,x_cat,x_cont):\n",
        "    embeddings = []\n",
        "    for i,e in enumerate(self.embeds):\n",
        "      embeddings.append(e(x_cat[:,i]))\n",
        "      \n",
        "    x = torch.cat(embeddings,1)\n",
        "    x = self.emb_drop(x)\n",
        "\n",
        "    x_cont = self.bn_cont(x_cont)\n",
        "    x = torch.cat([x,x_cont],1)\n",
        "    x = self.layers(x)\n",
        "    return x\n",
        "    "
      ],
      "execution_count": 52,
      "outputs": []
    },
    {
      "cell_type": "markdown",
      "metadata": {
        "id": "EyrEAmAIs_RN"
      },
      "source": [
        "# **Training and Testing the Regression Model**"
      ]
    },
    {
      "cell_type": "code",
      "metadata": {
        "colab": {
          "base_uri": "https://localhost:8080/"
        },
        "id": "CyVrNvMgow0O",
        "outputId": "c4a611fc-128c-41b0-e35a-ebfa087ee921"
      },
      "source": [
        "torch.manual_seed(33)\n",
        "model = TabularModel(emb_sizes,conts.shape[1],1,layers=[200,100],p=0.4)\n",
        "model"
      ],
      "execution_count": 53,
      "outputs": [
        {
          "output_type": "execute_result",
          "data": {
            "text/plain": [
              "TabularModel(\n",
              "  (embeds): ModuleList(\n",
              "    (0): Embedding(24, 12)\n",
              "    (1): Embedding(2, 1)\n",
              "    (2): Embedding(7, 4)\n",
              "  )\n",
              "  (emb_drop): Dropout(p=0.4, inplace=False)\n",
              "  (bn_cont): BatchNorm1d(6, eps=1e-05, momentum=0.1, affine=True, track_running_stats=True)\n",
              "  (layers): Sequential(\n",
              "    (0): Linear(in_features=23, out_features=200, bias=True)\n",
              "    (1): ReLU(inplace=True)\n",
              "    (2): BatchNorm1d(200, eps=1e-05, momentum=0.1, affine=True, track_running_stats=True)\n",
              "    (3): Dropout(p=0.4, inplace=False)\n",
              "    (4): Linear(in_features=200, out_features=100, bias=True)\n",
              "    (5): ReLU(inplace=True)\n",
              "    (6): BatchNorm1d(100, eps=1e-05, momentum=0.1, affine=True, track_running_stats=True)\n",
              "    (7): Dropout(p=0.4, inplace=False)\n",
              "    (8): Linear(in_features=100, out_features=1, bias=True)\n",
              "  )\n",
              ")"
            ]
          },
          "metadata": {
            "tags": []
          },
          "execution_count": 53
        }
      ]
    },
    {
      "cell_type": "code",
      "metadata": {
        "id": "FjGTz-opuh3W"
      },
      "source": [
        "criterion = nn.MSELoss()\n",
        "optimizer = torch.optim.Adam(model.parameters(),lr=0.001)\n"
      ],
      "execution_count": 54,
      "outputs": []
    },
    {
      "cell_type": "code",
      "metadata": {
        "id": "r5f1cXW9u92E"
      },
      "source": [
        "batch_size = 120000\n",
        "test_size = int(batch_size * 0.2)\n",
        "\n",
        "cat_train = cats[:batch_size-test_size]\n",
        "cat_test = cats[batch_size-test_size:batch_size]\n",
        "con_train = conts[:batch_size-test_size]\n",
        "con_test = conts[batch_size-test_size:batch_size]\n",
        "y_train = y[:batch_size-test_size]\n",
        "y_test = y[batch_size-test_size:batch_size]"
      ],
      "execution_count": 58,
      "outputs": []
    },
    {
      "cell_type": "code",
      "metadata": {
        "colab": {
          "base_uri": "https://localhost:8080/"
        },
        "id": "ZM31c-Qqvnpu",
        "outputId": "aed8ba62-0a3d-4c62-d5f1-1d969279a651"
      },
      "source": [
        "import time\n",
        "start_time = time.time()\n",
        "epochs = 300\n",
        "losses=[]\n",
        "for i in range(epochs):\n",
        "  y_pred = model(cat_train,con_train)\n",
        "  loss = torch.sqrt(criterion(y_pred,y_train))\n",
        "  losses.append(loss)\n",
        "\n",
        "  if i%10 == 1:\n",
        "    print(f'epoch {i} loss is {loss}')\n",
        "  \n",
        "  optimizer.zero_grad()\n",
        "  loss.backward()\n",
        "  optimizer.step()\n",
        "\n",
        "duration = time.time() - start_time\n",
        "print(f'Triaining took {duration/60} minutes')"
      ],
      "execution_count": 59,
      "outputs": [
        {
          "output_type": "stream",
          "text": [
            "epoch 1 loss is 3.6791272163391113\n",
            "epoch 11 loss is 3.6561949253082275\n",
            "epoch 21 loss is 3.6309714317321777\n",
            "epoch 31 loss is 3.593764543533325\n",
            "epoch 41 loss is 3.582611560821533\n",
            "epoch 51 loss is 3.576390027999878\n",
            "epoch 61 loss is 3.5731663703918457\n",
            "epoch 71 loss is 3.522648811340332\n",
            "epoch 81 loss is 3.5148634910583496\n",
            "epoch 91 loss is 3.497692108154297\n",
            "epoch 101 loss is 3.508401870727539\n",
            "epoch 111 loss is 3.480943441390991\n",
            "epoch 121 loss is 3.471074342727661\n",
            "epoch 131 loss is 3.461740732192993\n",
            "epoch 141 loss is 3.4406917095184326\n",
            "epoch 151 loss is 3.4205822944641113\n",
            "epoch 161 loss is 3.4431886672973633\n",
            "epoch 171 loss is 3.397984504699707\n",
            "epoch 181 loss is 3.382335662841797\n",
            "epoch 191 loss is 3.3775641918182373\n",
            "epoch 201 loss is 3.3915483951568604\n",
            "epoch 211 loss is 3.3590633869171143\n",
            "epoch 221 loss is 3.352407932281494\n",
            "epoch 231 loss is 3.3464839458465576\n",
            "epoch 241 loss is 3.3470046520233154\n",
            "epoch 251 loss is 3.325552463531494\n",
            "epoch 261 loss is 3.3191018104553223\n",
            "epoch 271 loss is 3.3216006755828857\n",
            "epoch 281 loss is 3.3129804134368896\n",
            "epoch 291 loss is 3.3026580810546875\n",
            "Triaining took 13.683744017283122 minutes\n"
          ],
          "name": "stdout"
        }
      ]
    },
    {
      "cell_type": "markdown",
      "metadata": {
        "id": "0IkFokCYz8nh"
      },
      "source": [
        "**Plotting out the loss function**"
      ]
    },
    {
      "cell_type": "code",
      "metadata": {
        "colab": {
          "base_uri": "https://localhost:8080/",
          "height": 282
        },
        "id": "SJwCW6BEz7k4",
        "outputId": "a794f311-b40f-4c95-b273-87e1c3189501"
      },
      "source": [
        "plt.plot(range(epochs),losses)"
      ],
      "execution_count": 60,
      "outputs": [
        {
          "output_type": "execute_result",
          "data": {
            "text/plain": [
              "[<matplotlib.lines.Line2D at 0x7f0601bf7490>]"
            ]
          },
          "metadata": {
            "tags": []
          },
          "execution_count": 60
        },
        {
          "output_type": "display_data",
          "data": {
            "image/png": "[encoded data removed]",
            "text/plain": [
              "<Figure size 432x288 with 1 Axes>"
            ]
          },
          "metadata": {
            "tags": [],
            "needs_background": "light"
          }
        }
      ]
    },
    {
      "cell_type": "code",
      "metadata": {
        "id": "hoyhOesd0FJe"
      },
      "source": [
        "with torch.no_grad():\n",
        "  y_val = model(cat_test,con_test)\n",
        "  loss = torch.sqrt(criterion(y_val,y_test))"
      ],
      "execution_count": 62,
      "outputs": []
    },
    {
      "cell_type": "code",
      "metadata": {
        "colab": {
          "base_uri": "https://localhost:8080/"
        },
        "id": "aZIjMsCT2KPH",
        "outputId": "13b2a54f-b619-4e77-d55d-0d25405adbca"
      },
      "source": [
        "loss"
      ],
      "execution_count": 63,
      "outputs": [
        {
          "output_type": "execute_result",
          "data": {
            "text/plain": [
              "tensor(3.3511)"
            ]
          },
          "metadata": {
            "tags": []
          },
          "execution_count": 63
        }
      ]
    },
    {
      "cell_type": "code",
      "metadata": {
        "colab": {
          "base_uri": "https://localhost:8080/"
        },
        "id": "MBcFYUQb2LL0",
        "outputId": "e9be16c2-c846-41d7-e08f-6fd3b1fdca9b"
      },
      "source": [
        "for i in range(10):\n",
        "  print(f'{i+1} -->  PREDICTED: {y_val[i].item():8.2f} TRUE: {y_test[i].item():8.2f} DIFFERENCE: {np.abs(y_val[i].item()-y_test[i].item()):8.5f}')"
      ],
      "execution_count": 66,
      "outputs": [
        {
          "output_type": "stream",
          "text": [
            "1 -->  PREDICTED:     8.93 TRUE:     8.10 DIFFERENCE:  0.83411\n",
            "2 -->  PREDICTED:    15.43 TRUE:    12.10 DIFFERENCE:  3.33145\n",
            "3 -->  PREDICTED:     5.61 TRUE:     4.90 DIFFERENCE:  0.71011\n",
            "4 -->  PREDICTED:    17.35 TRUE:    15.30 DIFFERENCE:  2.05217\n",
            "5 -->  PREDICTED:     8.99 TRUE:    11.30 DIFFERENCE:  2.31470\n",
            "6 -->  PREDICTED:    16.70 TRUE:    16.50 DIFFERENCE:  0.19507\n",
            "7 -->  PREDICTED:     4.23 TRUE:     3.30 DIFFERENCE:  0.92646\n",
            "8 -->  PREDICTED:     6.58 TRUE:     4.50 DIFFERENCE:  2.08270\n",
            "9 -->  PREDICTED:     5.38 TRUE:     5.70 DIFFERENCE:  0.31822\n",
            "10 -->  PREDICTED:    16.91 TRUE:    20.10 DIFFERENCE:  3.19359\n"
          ],
          "name": "stdout"
        }
      ]
    },
    {
      "cell_type": "markdown",
      "metadata": {
        "id": "E2_dOQiA3Zs4"
      },
      "source": [
        "**Saving the model**"
      ]
    },
    {
      "cell_type": "code",
      "metadata": {
        "id": "-kLMH-0m3ZdF"
      },
      "source": [
        "torch.save(model.state_dict(),'taxiFareModel.pt')"
      ],
      "execution_count": null,
      "outputs": []
    }
  ]
}