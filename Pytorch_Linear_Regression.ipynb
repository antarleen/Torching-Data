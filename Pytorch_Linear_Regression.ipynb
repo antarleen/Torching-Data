{
  "nbformat": 4,
  "nbformat_minor": 0,
  "metadata": {
    "colab": {
      "name": "Pytorch Linear Regression",
      "provenance": [],
      "authorship_tag": "ABX9TyOuPMikuNLX7hHYMpjjNf73"
    },
    "kernelspec": {
      "name": "python3",
      "display_name": "Python 3"
    },
    "language_info": {
      "name": "python"
    }
  },
  "cells": [
    {
      "cell_type": "markdown",
      "metadata": {
        "id": "zRUzHzd7cy9y"
      },
      "source": [
        "## **Linear Regression**"
      ]
    },
    {
      "cell_type": "markdown",
      "metadata": {
        "id": "fykPPC3ncrph"
      },
      "source": [
        " **Import Libraries**"
      ]
    },
    {
      "cell_type": "code",
      "metadata": {
        "id": "fiUQkUkzVxPg"
      },
      "source": [
        "import torch\n",
        "import numpy as np\n",
        "import matplotlib.pyplot as plt"
      ],
      "execution_count": 136,
      "outputs": []
    },
    {
      "cell_type": "code",
      "metadata": {
        "id": "ygxIyDVMdIpp"
      },
      "source": [
        "import torch.nn as nn"
      ],
      "execution_count": 137,
      "outputs": []
    },
    {
      "cell_type": "markdown",
      "metadata": {
        "id": "eFclN8UYc325"
      },
      "source": [
        "**Initialize Tensor**"
      ]
    },
    {
      "cell_type": "code",
      "metadata": {
        "colab": {
          "base_uri": "https://localhost:8080/"
        },
        "id": "tpxuQFqpcx-2",
        "outputId": "9602e658-42fa-4ef8-ff05-6bbe44c971e4"
      },
      "source": [
        "X = torch.linspace(1,50,50).reshape(-1,1)\n",
        "X"
      ],
      "execution_count": 138,
      "outputs": [
        {
          "output_type": "execute_result",
          "data": {
            "text/plain": [
              "tensor([[ 1.],\n",
              "        [ 2.],\n",
              "        [ 3.],\n",
              "        [ 4.],\n",
              "        [ 5.],\n",
              "        [ 6.],\n",
              "        [ 7.],\n",
              "        [ 8.],\n",
              "        [ 9.],\n",
              "        [10.],\n",
              "        [11.],\n",
              "        [12.],\n",
              "        [13.],\n",
              "        [14.],\n",
              "        [15.],\n",
              "        [16.],\n",
              "        [17.],\n",
              "        [18.],\n",
              "        [19.],\n",
              "        [20.],\n",
              "        [21.],\n",
              "        [22.],\n",
              "        [23.],\n",
              "        [24.],\n",
              "        [25.],\n",
              "        [26.],\n",
              "        [27.],\n",
              "        [28.],\n",
              "        [29.],\n",
              "        [30.],\n",
              "        [31.],\n",
              "        [32.],\n",
              "        [33.],\n",
              "        [34.],\n",
              "        [35.],\n",
              "        [36.],\n",
              "        [37.],\n",
              "        [38.],\n",
              "        [39.],\n",
              "        [40.],\n",
              "        [41.],\n",
              "        [42.],\n",
              "        [43.],\n",
              "        [44.],\n",
              "        [45.],\n",
              "        [46.],\n",
              "        [47.],\n",
              "        [48.],\n",
              "        [49.],\n",
              "        [50.]])"
            ]
          },
          "metadata": {
            "tags": []
          },
          "execution_count": 138
        }
      ]
    },
    {
      "cell_type": "markdown",
      "metadata": {
        "id": "L4KkPuqpdtQA"
      },
      "source": [
        "**Initialize Error Values**"
      ]
    },
    {
      "cell_type": "code",
      "metadata": {
        "colab": {
          "base_uri": "https://localhost:8080/"
        },
        "id": "AlCtatavdsn-",
        "outputId": "ee5e09fc-924c-4b8d-c806-1931088106e5"
      },
      "source": [
        "torch.manual_seed(59)\n",
        "e = torch.randint(-8,9,(50,1),dtype = torch.float)\n",
        "e"
      ],
      "execution_count": 139,
      "outputs": [
        {
          "output_type": "execute_result",
          "data": {
            "text/plain": [
              "tensor([[-7.],\n",
              "        [-1.],\n",
              "        [ 4.],\n",
              "        [-3.],\n",
              "        [ 0.],\n",
              "        [-7.],\n",
              "        [-5.],\n",
              "        [ 5.],\n",
              "        [ 1.],\n",
              "        [ 3.],\n",
              "        [ 7.],\n",
              "        [-2.],\n",
              "        [ 7.],\n",
              "        [-3.],\n",
              "        [-6.],\n",
              "        [-5.],\n",
              "        [-3.],\n",
              "        [ 0.],\n",
              "        [ 8.],\n",
              "        [-1.],\n",
              "        [-8.],\n",
              "        [-6.],\n",
              "        [ 1.],\n",
              "        [-5.],\n",
              "        [ 8.],\n",
              "        [-3.],\n",
              "        [-8.],\n",
              "        [-2.],\n",
              "        [ 6.],\n",
              "        [-4.],\n",
              "        [-1.],\n",
              "        [-6.],\n",
              "        [-3.],\n",
              "        [-5.],\n",
              "        [-6.],\n",
              "        [-4.],\n",
              "        [-1.],\n",
              "        [ 3.],\n",
              "        [ 2.],\n",
              "        [ 4.],\n",
              "        [-5.],\n",
              "        [ 6.],\n",
              "        [-8.],\n",
              "        [ 4.],\n",
              "        [ 0.],\n",
              "        [-8.],\n",
              "        [ 2.],\n",
              "        [ 6.],\n",
              "        [ 2.],\n",
              "        [ 5.]])"
            ]
          },
          "metadata": {
            "tags": []
          },
          "execution_count": 139
        }
      ]
    },
    {
      "cell_type": "markdown",
      "metadata": {
        "id": "wx61EJw-eRcB"
      },
      "source": [
        "**Build Y**"
      ]
    },
    {
      "cell_type": "code",
      "metadata": {
        "id": "ZpzU6rmreRt8"
      },
      "source": [
        "y = 2*X + e"
      ],
      "execution_count": 140,
      "outputs": []
    },
    {
      "cell_type": "code",
      "metadata": {
        "colab": {
          "base_uri": "https://localhost:8080/"
        },
        "id": "BvHl9HmKeZoh",
        "outputId": "de8b17d3-3339-4cdd-a157-4432e11f8620"
      },
      "source": [
        "y.shape"
      ],
      "execution_count": 141,
      "outputs": [
        {
          "output_type": "execute_result",
          "data": {
            "text/plain": [
              "torch.Size([50, 1])"
            ]
          },
          "metadata": {
            "tags": []
          },
          "execution_count": 141
        }
      ]
    },
    {
      "cell_type": "markdown",
      "metadata": {
        "id": "kwBkgOjVeoWQ"
      },
      "source": [
        "**Convert to numpy() for plotting X vs y**"
      ]
    },
    {
      "cell_type": "code",
      "metadata": {
        "colab": {
          "base_uri": "https://localhost:8080/",
          "height": 282
        },
        "id": "ntAFvkRSedHZ",
        "outputId": "f61abbc0-ce94-4991-ccd0-8026b53075ea"
      },
      "source": [
        "plt.scatter(X.numpy(),y.numpy())"
      ],
      "execution_count": 142,
      "outputs": [
        {
          "output_type": "execute_result",
          "data": {
            "text/plain": [
              "<matplotlib.collections.PathCollection at 0x7f6e6c19f950>"
            ]
          },
          "metadata": {
            "tags": []
          },
          "execution_count": 142
        },
        {
          "output_type": "display_data",
          "data": {
            "image/png": "[encoded data removed]",
            "text/plain": [
              "<Figure size 432x288 with 1 Axes>"
            ]
          },
          "metadata": {
            "tags": [],
            "needs_background": "light"
          }
        }
      ]
    },
    {
      "cell_type": "markdown",
      "metadata": {
        "id": "adbOqQuEe1xO"
      },
      "source": [
        "**The Linear Model**"
      ]
    },
    {
      "cell_type": "code",
      "metadata": {
        "colab": {
          "base_uri": "https://localhost:8080/"
        },
        "id": "j61g2JNZfBAw",
        "outputId": "bab55b86-8401-4dba-d275-7b90fc2a0007"
      },
      "source": [
        "torch.manual_seed(59)\n",
        "model = nn.Linear(in_features=1,out_features=1)\n",
        "print(model.weight)\n",
        "print(model.bias)"
      ],
      "execution_count": 143,
      "outputs": [
        {
          "output_type": "stream",
          "text": [
            "Parameter containing:\n",
            "tensor([[0.1060]], requires_grad=True)\n",
            "Parameter containing:\n",
            "tensor([0.9638], requires_grad=True)\n"
          ],
          "name": "stdout"
        }
      ]
    },
    {
      "cell_type": "code",
      "metadata": {
        "id": "_3mWNzhBfHAC"
      },
      "source": [
        "class Model(nn.Module):\n",
        "  def __init__(self,in_features,out_features):\n",
        "    super().__init__()\n",
        "    self.linear = nn.Linear(in_features,out_features)\n",
        "  def forward(self,x):\n",
        "    y_pred = self.linear(x)\n",
        "    return y_pred"
      ],
      "execution_count": 144,
      "outputs": []
    },
    {
      "cell_type": "code",
      "metadata": {
        "colab": {
          "base_uri": "https://localhost:8080/"
        },
        "id": "zJMx6IhKieYJ",
        "outputId": "498e7eff-0c17-439d-931d-6ece358101e1"
      },
      "source": [
        "torch.manual_seed(59)\n",
        "model = Model(1,1)\n",
        "print(model.linear.weight)\n",
        "print(model.linear.bias)"
      ],
      "execution_count": 145,
      "outputs": [
        {
          "output_type": "stream",
          "text": [
            "Parameter containing:\n",
            "tensor([[0.1060]], requires_grad=True)\n",
            "Parameter containing:\n",
            "tensor([0.9638], requires_grad=True)\n"
          ],
          "name": "stdout"
        }
      ]
    },
    {
      "cell_type": "markdown",
      "metadata": {
        "id": "qG2Z4pAAkGIr"
      },
      "source": [
        "**Iterating over model parameters**"
      ]
    },
    {
      "cell_type": "code",
      "metadata": {
        "colab": {
          "base_uri": "https://localhost:8080/"
        },
        "id": "6_7rT1rFkFSt",
        "outputId": "a0be85dc-be7c-4e0d-bb26-fc79bb287824"
      },
      "source": [
        "for name,param in model.named_parameters():\n",
        "  print(name,'\\t',param.item())"
      ],
      "execution_count": 146,
      "outputs": [
        {
          "output_type": "stream",
          "text": [
            "linear.weight \t 0.10597813129425049\n",
            "linear.bias \t 0.9637961387634277\n"
          ],
          "name": "stdout"
        }
      ]
    },
    {
      "cell_type": "markdown",
      "metadata": {
        "id": "omr3ffq6lTsF"
      },
      "source": [
        "**Predicting y for different values of X**"
      ]
    },
    {
      "cell_type": "code",
      "metadata": {
        "colab": {
          "base_uri": "https://localhost:8080/"
        },
        "id": "KpgCxf-VlYA4",
        "outputId": "509ae899-3cb3-453c-ee07-32783f9a4356"
      },
      "source": [
        "x = torch.tensor([2.0])\n",
        "x"
      ],
      "execution_count": 147,
      "outputs": [
        {
          "output_type": "execute_result",
          "data": {
            "text/plain": [
              "tensor([2.])"
            ]
          },
          "metadata": {
            "tags": []
          },
          "execution_count": 147
        }
      ]
    },
    {
      "cell_type": "code",
      "metadata": {
        "colab": {
          "base_uri": "https://localhost:8080/"
        },
        "id": "Xt24FiQDlhsW",
        "outputId": "5d538c09-a48d-45e2-d70d-fe97b418214a"
      },
      "source": [
        "print(model.forward(x))"
      ],
      "execution_count": 148,
      "outputs": [
        {
          "output_type": "stream",
          "text": [
            "tensor([1.1758], grad_fn=<AddBackward0>)\n"
          ],
          "name": "stdout"
        }
      ]
    },
    {
      "cell_type": "code",
      "metadata": {
        "colab": {
          "base_uri": "https://localhost:8080/"
        },
        "id": "a8YQNwellmi4",
        "outputId": "89d4410b-19e8-43b3-b689-d9ded0b7f733"
      },
      "source": [
        "x1 = torch.linspace(0.0,50.0,50)\n",
        "x1.reshape(-1,50)"
      ],
      "execution_count": 149,
      "outputs": [
        {
          "output_type": "execute_result",
          "data": {
            "text/plain": [
              "tensor([[ 0.0000,  1.0204,  2.0408,  3.0612,  4.0816,  5.1020,  6.1224,  7.1429,\n",
              "          8.1633,  9.1837, 10.2041, 11.2245, 12.2449, 13.2653, 14.2857, 15.3061,\n",
              "         16.3265, 17.3469, 18.3673, 19.3878, 20.4082, 21.4286, 22.4490, 23.4694,\n",
              "         24.4898, 25.5102, 26.5306, 27.5510, 28.5714, 29.5918, 30.6122, 31.6327,\n",
              "         32.6531, 33.6735, 34.6939, 35.7143, 36.7347, 37.7551, 38.7755, 39.7959,\n",
              "         40.8163, 41.8367, 42.8571, 43.8776, 44.8980, 45.9184, 46.9388, 47.9592,\n",
              "         48.9796, 50.0000]])"
            ]
          },
          "metadata": {
            "tags": []
          },
          "execution_count": 149
        }
      ]
    },
    {
      "cell_type": "code",
      "metadata": {
        "id": "3MtYFWCyoDrO"
      },
      "source": [
        "w1 = model.linear.weight.item()\n",
        "b1 = model.linear.bias.item()\n",
        "\n",
        "y1 = w1*x1+b1"
      ],
      "execution_count": 150,
      "outputs": []
    },
    {
      "cell_type": "code",
      "metadata": {
        "colab": {
          "base_uri": "https://localhost:8080/",
          "height": 282
        },
        "id": "7W1GZNzbmP9_",
        "outputId": "8652740b-ca6c-4a2c-a98d-8be881be1326"
      },
      "source": [
        "plt.scatter(X.numpy(),y.numpy())\n",
        "plt.plot(x1,y1.detach().numpy().reshape(50),'r')"
      ],
      "execution_count": 151,
      "outputs": [
        {
          "output_type": "execute_result",
          "data": {
            "text/plain": [
              "[<matplotlib.lines.Line2D at 0x7f6e6c0f2a90>]"
            ]
          },
          "metadata": {
            "tags": []
          },
          "execution_count": 151
        },
        {
          "output_type": "display_data",
          "data": {
            "image/png": "[encoded data removed]",
            "text/plain": [
              "<Figure size 432x288 with 1 Axes>"
            ]
          },
          "metadata": {
            "tags": [],
            "needs_background": "light"
          }
        }
      ]
    },
    {
      "cell_type": "markdown",
      "metadata": {
        "id": "ZukR_vLQvCsv"
      },
      "source": [
        "**Introducing a Loss function**"
      ]
    },
    {
      "cell_type": "code",
      "metadata": {
        "id": "8jy82JVsvCfZ"
      },
      "source": [
        "criterion = nn.MSELoss()\n",
        "optimizer = torch.optim.SGD(model.parameters(),lr=0.001)\n",
        "epochs = 50"
      ],
      "execution_count": 152,
      "outputs": []
    },
    {
      "cell_type": "markdown",
      "metadata": {
        "id": "0Hz_wGuMwEgr"
      },
      "source": [
        "**Error Calculation**"
      ]
    },
    {
      "cell_type": "code",
      "metadata": {
        "colab": {
          "base_uri": "https://localhost:8080/"
        },
        "id": "Ov3-Yoq_wD4C",
        "outputId": "406bdfbf-14a0-4f6f-9a9f-82f4061e4134"
      },
      "source": [
        "losses = []\n",
        "for i in range(epochs):\n",
        "  #PREDICTING THE FORWARD PASS\n",
        "  y_pred = model.forward(X)\n",
        "  #CALCULATE THE LOSS/ERROR\n",
        "  loss = criterion(y_pred,y)\n",
        "  losses.append(loss)\n",
        "  print(f'epoch {i} loss:{loss.item()} weight: {model.linear.weight.item()} bias: {model.linear.bias.item()}')\n",
        "  optimizer.zero_grad()\n",
        "  loss.backward()\n",
        "  optimizer.step()"
      ],
      "execution_count": 153,
      "outputs": [
        {
          "output_type": "stream",
          "text": [
            "epoch 0 loss:2953.81689453125 weight: 0.10597813129425049 bias: 0.9637961387634277\n",
            "epoch 1 loss:1536.684326171875 weight: 3.277780055999756 bias: 1.056783676147461\n",
            "epoch 2 loss:805.0687255859375 weight: 0.9988558888435364 bias: 0.9878233075141907\n",
            "epoch 3 loss:427.3611755371094 weight: 2.6363613605499268 bias: 1.0352259874343872\n",
            "epoch 4 loss:232.3635711669922 weight: 1.4598523378372192 bias: 0.9990211129188538\n",
            "epoch 5 loss:131.69252014160156 weight: 2.305255889892578 bias: 1.022890567779541\n",
            "epoch 6 loss:79.71886444091797 weight: 1.697884202003479 bias: 1.0035967826843262\n",
            "epoch 7 loss:52.88600540161133 weight: 2.1343536376953125 bias: 1.015317440032959\n",
            "epoch 8 loss:39.03241729736328 weight: 1.8208072185516357 bias: 1.0047547817230225\n",
            "epoch 9 loss:31.879528045654297 weight: 2.046158790588379 bias: 1.0102040767669678\n",
            "epoch 10 loss:28.186002731323242 weight: 1.8843038082122803 bias: 1.0041495561599731\n",
            "epoch 11 loss:26.278432846069336 weight: 2.0006625652313232 bias: 1.006361722946167\n",
            "epoch 12 loss:25.292869567871094 weight: 1.9171204566955566 bias: 1.0026352405548096\n",
            "epoch 13 loss:24.783309936523438 weight: 1.977210283279419 bias: 1.0031768083572388\n",
            "epoch 14 loss:24.519489288330078 weight: 1.934098243713379 bias: 1.00065279006958\n",
            "epoch 15 loss:24.382549285888672 weight: 1.9651381969451904 bias: 1.0003324747085571\n",
            "epoch 16 loss:24.311107635498047 weight: 1.9428988695144653 bias: 0.9984297752380371\n",
            "epoch 17 loss:24.273483276367188 weight: 1.9589416980743408 bias: 0.9976650476455688\n",
            "epoch 18 loss:24.253307342529297 weight: 1.9474778175354004 bias: 0.996083676815033\n",
            "epoch 19 loss:24.242158889770508 weight: 1.9557781219482422 bias: 0.995090126991272\n",
            "epoch 20 loss:24.235658645629883 weight: 1.9498776197433472 bias: 0.9936752915382385\n",
            "epoch 21 loss:24.2315616607666 weight: 1.9541802406311035 bias: 0.9925642013549805\n",
            "epoch 22 loss:24.22870635986328 weight: 1.9511520862579346 bias: 0.9912359118461609\n",
            "epoch 23 loss:24.226491928100586 weight: 1.9533909559249878 bias: 0.9900646805763245\n",
            "epoch 24 loss:24.224609375 weight: 1.9518452882766724 bias: 0.9887816309928894\n",
            "epoch 25 loss:24.222902297973633 weight: 1.9530190229415894 bias: 0.9875799417495728\n",
            "epoch 26 loss:24.221284866333008 weight: 1.9522387981414795 bias: 0.9863207936286926\n",
            "epoch 27 loss:24.219703674316406 weight: 1.9528625011444092 bias: 0.985103964805603\n",
            "epoch 28 loss:24.218154907226562 weight: 1.952477216720581 bias: 0.9838577508926392\n",
            "epoch 29 loss:24.216625213623047 weight: 1.9528172016143799 bias: 0.9826337099075317\n",
            "epoch 30 loss:24.215099334716797 weight: 1.952635645866394 bias: 0.9813947677612305\n",
            "epoch 31 loss:24.213573455810547 weight: 1.952829122543335 bias: 0.98016756772995\n",
            "epoch 32 loss:24.212053298950195 weight: 1.9527528285980225 bias: 0.9789329171180725\n",
            "epoch 33 loss:24.21053695678711 weight: 1.9528706073760986 bias: 0.977704644203186\n",
            "epoch 34 loss:24.209035873413086 weight: 1.9528487920761108 bias: 0.9764728546142578\n",
            "epoch 35 loss:24.2075138092041 weight: 1.9529273509979248 bias: 0.9752446413040161\n",
            "epoch 36 loss:24.20600128173828 weight: 1.952933669090271 bias: 0.9740148782730103\n",
            "epoch 37 loss:24.20449447631836 weight: 1.9529918432235718 bias: 0.9727872610092163\n",
            "epoch 38 loss:24.202983856201172 weight: 1.9530127048492432 bias: 0.9715591073036194\n",
            "epoch 39 loss:24.201478958129883 weight: 1.9530603885650635 bias: 0.9703323245048523\n",
            "epoch 40 loss:24.199975967407227 weight: 1.9530887603759766 bias: 0.96910560131073\n",
            "epoch 41 loss:24.198471069335938 weight: 1.9531309604644775 bias: 0.9678798913955688\n",
            "epoch 42 loss:24.19696807861328 weight: 1.9531631469726562 bias: 0.9666544795036316\n",
            "epoch 43 loss:24.19546890258789 weight: 1.953202724456787 bias: 0.9654298424720764\n",
            "epoch 44 loss:24.193967819213867 weight: 1.953236699104309 bias: 0.9642056226730347\n",
            "epoch 45 loss:24.192466735839844 weight: 1.9532748460769653 bias: 0.9629821181297302\n",
            "epoch 46 loss:24.190969467163086 weight: 1.9533098936080933 bias: 0.9617591500282288\n",
            "epoch 47 loss:24.189481735229492 weight: 1.953347086906433 bias: 0.9605368375778198\n",
            "epoch 48 loss:24.18798828125 weight: 1.9533828496932983 bias: 0.9593150615692139\n",
            "epoch 49 loss:24.186494827270508 weight: 1.95341956615448 bias: 0.9580938816070557\n"
          ],
          "name": "stdout"
        }
      ]
    },
    {
      "cell_type": "markdown",
      "metadata": {
        "id": "6dx7HrsLx__t"
      },
      "source": [
        "**Plotting out the Losses**"
      ]
    },
    {
      "cell_type": "code",
      "metadata": {
        "colab": {
          "base_uri": "https://localhost:8080/",
          "height": 296
        },
        "id": "smVPWlf6x_uU",
        "outputId": "557090c9-f89c-4a84-f023-17bdeb2aa919"
      },
      "source": [
        "plt.plot(range(epochs),losses)\n",
        "plt.xlabel('MSE LOSS')\n",
        "plt.ylabel('EPOCHS')"
      ],
      "execution_count": 154,
      "outputs": [
        {
          "output_type": "execute_result",
          "data": {
            "text/plain": [
              "Text(0, 0.5, 'EPOCHS')"
            ]
          },
          "metadata": {
            "tags": []
          },
          "execution_count": 154
        },
        {
          "output_type": "display_data",
          "data": {
            "image/png": "[encoded data removed]",
            "text/plain": [
              "<Figure size 432x288 with 1 Axes>"
            ]
          },
          "metadata": {
            "tags": [],
            "needs_background": "light"
          }
        }
      ]
    },
    {
      "cell_type": "markdown",
      "metadata": {
        "id": "zKHU63Ks1tWL"
      },
      "source": [
        "**Testing our Model**"
      ]
    },
    {
      "cell_type": "code",
      "metadata": {
        "id": "tIj08qAL2BiI"
      },
      "source": [
        "x = torch.linspace(0.0,50.0,50)\n",
        "current_weight = model.linear.bias.item()\n",
        "current_bias = model.linear.bias.item()\n",
        "predicted_y = current_weight*x+current_bias"
      ],
      "execution_count": 155,
      "outputs": []
    },
    {
      "cell_type": "code",
      "metadata": {
        "colab": {
          "base_uri": "https://localhost:8080/"
        },
        "id": "bdLHYj6k2Nx6",
        "outputId": "4c612e73-71c2-4262-f37d-8298c33c7dc7"
      },
      "source": [
        "predicted_y"
      ],
      "execution_count": 156,
      "outputs": [
        {
          "output_type": "execute_result",
          "data": {
            "text/plain": [
              "tensor([ 0.9569,  1.9333,  2.9097,  3.8861,  4.8625,  5.8389,  6.8153,  7.7917,\n",
              "         8.7681,  9.7445, 10.7209, 11.6973, 12.6737, 13.6501, 14.6265, 15.6029,\n",
              "        16.5793, 17.5557, 18.5321, 19.5085, 20.4849, 21.4613, 22.4377, 23.4141,\n",
              "        24.3905, 25.3669, 26.3433, 27.3197, 28.2961, 29.2725, 30.2489, 31.2253,\n",
              "        32.2017, 33.1781, 34.1545, 35.1309, 36.1073, 37.0837, 38.0601, 39.0365,\n",
              "        40.0129, 40.9893, 41.9657, 42.9421, 43.9185, 44.8949, 45.8713, 46.8477,\n",
              "        47.8241, 48.8005])"
            ]
          },
          "metadata": {
            "tags": []
          },
          "execution_count": 156
        }
      ]
    },
    {
      "cell_type": "code",
      "metadata": {
        "colab": {
          "base_uri": "https://localhost:8080/"
        },
        "id": "r_PeiXs02mkc",
        "outputId": "d80c292d-5a08-44df-bf8b-9293c561d2db"
      },
      "source": [
        "y"
      ],
      "execution_count": 157,
      "outputs": [
        {
          "output_type": "execute_result",
          "data": {
            "text/plain": [
              "tensor([[ -5.],\n",
              "        [  3.],\n",
              "        [ 10.],\n",
              "        [  5.],\n",
              "        [ 10.],\n",
              "        [  5.],\n",
              "        [  9.],\n",
              "        [ 21.],\n",
              "        [ 19.],\n",
              "        [ 23.],\n",
              "        [ 29.],\n",
              "        [ 22.],\n",
              "        [ 33.],\n",
              "        [ 25.],\n",
              "        [ 24.],\n",
              "        [ 27.],\n",
              "        [ 31.],\n",
              "        [ 36.],\n",
              "        [ 46.],\n",
              "        [ 39.],\n",
              "        [ 34.],\n",
              "        [ 38.],\n",
              "        [ 47.],\n",
              "        [ 43.],\n",
              "        [ 58.],\n",
              "        [ 49.],\n",
              "        [ 46.],\n",
              "        [ 54.],\n",
              "        [ 64.],\n",
              "        [ 56.],\n",
              "        [ 61.],\n",
              "        [ 58.],\n",
              "        [ 63.],\n",
              "        [ 63.],\n",
              "        [ 64.],\n",
              "        [ 68.],\n",
              "        [ 73.],\n",
              "        [ 79.],\n",
              "        [ 80.],\n",
              "        [ 84.],\n",
              "        [ 77.],\n",
              "        [ 90.],\n",
              "        [ 78.],\n",
              "        [ 92.],\n",
              "        [ 90.],\n",
              "        [ 84.],\n",
              "        [ 96.],\n",
              "        [102.],\n",
              "        [100.],\n",
              "        [105.]])"
            ]
          },
          "metadata": {
            "tags": []
          },
          "execution_count": 157
        }
      ]
    },
    {
      "cell_type": "code",
      "metadata": {
        "colab": {
          "base_uri": "https://localhost:8080/",
          "height": 282
        },
        "id": "s9g_uB1X2Vsi",
        "outputId": "b17317f4-574c-4853-d845-67125317a77a"
      },
      "source": [
        "plt.scatter(X.numpy(),y.numpy())\n",
        "plt.plot(x,predicted_y,'r')"
      ],
      "execution_count": 158,
      "outputs": [
        {
          "output_type": "execute_result",
          "data": {
            "text/plain": [
              "[<matplotlib.lines.Line2D at 0x7f6e6bfcf8d0>]"
            ]
          },
          "metadata": {
            "tags": []
          },
          "execution_count": 158
        },
        {
          "output_type": "display_data",
          "data": {
            "image/png": "[encoded data removed]",
            "text/plain": [
              "<Figure size 432x288 with 1 Axes>"
            ]
          },
          "metadata": {
            "tags": [],
            "needs_background": "light"
          }
        }
      ]
    }
  ]
}