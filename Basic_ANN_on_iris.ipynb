{
  "nbformat": 4,
  "nbformat_minor": 0,
  "metadata": {
    "colab": {
      "name": "Basic ANN on iris.ipynb",
      "provenance": [],
      "authorship_tag": "ABX9TyO8PIAkrl7MBsmKMWElRlEA"
    },
    "kernelspec": {
      "name": "python3",
      "display_name": "Python 3"
    },
    "language_info": {
      "name": "python"
    }
  },
  "cells": [
    {
      "cell_type": "markdown",
      "metadata": {
        "id": "00lmqpsdb6p3"
      },
      "source": [
        "# **Import the required libraries**"
      ]
    },
    {
      "cell_type": "code",
      "metadata": {
        "id": "wu8eFHmVbvAF"
      },
      "source": [
        "import torch \n",
        "import torch.nn as nn\n",
        "import torch.nn.functional as F\n",
        "import pandas as pd\n",
        "import matplotlib.pyplot as plt\n",
        "from sklearn.model_selection import train_test_split"
      ],
      "execution_count": 78,
      "outputs": []
    },
    {
      "cell_type": "markdown",
      "metadata": {
        "id": "jpyopz0pb5vK"
      },
      "source": [
        "# **Inherting from native class module**"
      ]
    },
    {
      "cell_type": "markdown",
      "metadata": {
        "id": "EqoOnNjtef9S"
      },
      "source": [
        "**Creating the ANN layout**"
      ]
    },
    {
      "cell_type": "code",
      "metadata": {
        "id": "7nWuir6JcsJ_"
      },
      "source": [
        "class Model(nn.Module):\n",
        "  def __init__(self,in_features=4,h1=8,h2=9,out_features=3):\n",
        "    #how many layers ?\n",
        "    super().__init__ ()# Instanciates the model we are inheriting from\n",
        "    self.fc1 = nn.Linear(in_features,h1) #fc refers to fully connected layers\n",
        "    self.fc2 = nn.Linear(h1,h2)\n",
        "    self.out = nn.Linear(h2,out_features)\n",
        "    # i/p layer(4 features) --> hidden layer 1 --> hidden layer 2 --> output(3 classes for this cases)\n",
        "  def forward(self,x):\n",
        "    x = F.relu(self.fc1(x))\n",
        "    x = F.relu(self.fc2(x))\n",
        "    x = self.out(x)\n",
        "    return x"
      ],
      "execution_count": 79,
      "outputs": []
    },
    {
      "cell_type": "markdown",
      "metadata": {
        "id": "lz0eG3lve3fV"
      },
      "source": [
        "**Create an instance of the model**"
      ]
    },
    {
      "cell_type": "code",
      "metadata": {
        "id": "A9qoWZPEe72P"
      },
      "source": [
        "torch.manual_seed(32)\n",
        "model = Model()"
      ],
      "execution_count": 80,
      "outputs": []
    },
    {
      "cell_type": "markdown",
      "metadata": {
        "id": "P2_7CRYRj0If"
      },
      "source": [
        "# **Importing the dataset**"
      ]
    },
    {
      "cell_type": "code",
      "metadata": {
        "id": "_qU2kT-7j0sf"
      },
      "source": [
        "df = pd.read_csv('iris.csv')"
      ],
      "execution_count": 81,
      "outputs": []
    },
    {
      "cell_type": "code",
      "metadata": {
        "colab": {
          "base_uri": "https://localhost:8080/",
          "height": 203
        },
        "id": "aJvLUtStj9XK",
        "outputId": "09741135-5f82-4103-8388-2bd2e15d12d1"
      },
      "source": [
        "df.head()"
      ],
      "execution_count": 82,
      "outputs": [
        {
          "output_type": "execute_result",
          "data": {
            "text/html": [
              "<div>\n",
              "<style scoped>\n",
              "    .dataframe tbody tr th:only-of-type {\n",
              "        vertical-align: middle;\n",
              "    }\n",
              "\n",
              "    .dataframe tbody tr th {\n",
              "        vertical-align: top;\n",
              "    }\n",
              "\n",
              "    .dataframe thead th {\n",
              "        text-align: right;\n",
              "    }\n",
              "</style>\n",
              "<table border=\"1\" class=\"dataframe\">\n",
              "  <thead>\n",
              "    <tr style=\"text-align: right;\">\n",
              "      <th></th>\n",
              "      <th>sepal length (cm)</th>\n",
              "      <th>sepal width (cm)</th>\n",
              "      <th>petal length (cm)</th>\n",
              "      <th>petal width (cm)</th>\n",
              "      <th>target</th>\n",
              "    </tr>\n",
              "  </thead>\n",
              "  <tbody>\n",
              "    <tr>\n",
              "      <th>0</th>\n",
              "      <td>5.1</td>\n",
              "      <td>3.5</td>\n",
              "      <td>1.4</td>\n",
              "      <td>0.2</td>\n",
              "      <td>0.0</td>\n",
              "    </tr>\n",
              "    <tr>\n",
              "      <th>1</th>\n",
              "      <td>4.9</td>\n",
              "      <td>3.0</td>\n",
              "      <td>1.4</td>\n",
              "      <td>0.2</td>\n",
              "      <td>0.0</td>\n",
              "    </tr>\n",
              "    <tr>\n",
              "      <th>2</th>\n",
              "      <td>4.7</td>\n",
              "      <td>3.2</td>\n",
              "      <td>1.3</td>\n",
              "      <td>0.2</td>\n",
              "      <td>0.0</td>\n",
              "    </tr>\n",
              "    <tr>\n",
              "      <th>3</th>\n",
              "      <td>4.6</td>\n",
              "      <td>3.1</td>\n",
              "      <td>1.5</td>\n",
              "      <td>0.2</td>\n",
              "      <td>0.0</td>\n",
              "    </tr>\n",
              "    <tr>\n",
              "      <th>4</th>\n",
              "      <td>5.0</td>\n",
              "      <td>3.6</td>\n",
              "      <td>1.4</td>\n",
              "      <td>0.2</td>\n",
              "      <td>0.0</td>\n",
              "    </tr>\n",
              "  </tbody>\n",
              "</table>\n",
              "</div>"
            ],
            "text/plain": [
              "   sepal length (cm)  sepal width (cm)  ...  petal width (cm)  target\n",
              "0                5.1               3.5  ...               0.2     0.0\n",
              "1                4.9               3.0  ...               0.2     0.0\n",
              "2                4.7               3.2  ...               0.2     0.0\n",
              "3                4.6               3.1  ...               0.2     0.0\n",
              "4                5.0               3.6  ...               0.2     0.0\n",
              "\n",
              "[5 rows x 5 columns]"
            ]
          },
          "metadata": {
            "tags": []
          },
          "execution_count": 82
        }
      ]
    },
    {
      "cell_type": "code",
      "metadata": {
        "colab": {
          "base_uri": "https://localhost:8080/",
          "height": 203
        },
        "id": "kDLovLBnkArZ",
        "outputId": "c5233239-8780-45e2-f8fb-6f584326a5ef"
      },
      "source": [
        "df.tail()"
      ],
      "execution_count": 83,
      "outputs": [
        {
          "output_type": "execute_result",
          "data": {
            "text/html": [
              "<div>\n",
              "<style scoped>\n",
              "    .dataframe tbody tr th:only-of-type {\n",
              "        vertical-align: middle;\n",
              "    }\n",
              "\n",
              "    .dataframe tbody tr th {\n",
              "        vertical-align: top;\n",
              "    }\n",
              "\n",
              "    .dataframe thead th {\n",
              "        text-align: right;\n",
              "    }\n",
              "</style>\n",
              "<table border=\"1\" class=\"dataframe\">\n",
              "  <thead>\n",
              "    <tr style=\"text-align: right;\">\n",
              "      <th></th>\n",
              "      <th>sepal length (cm)</th>\n",
              "      <th>sepal width (cm)</th>\n",
              "      <th>petal length (cm)</th>\n",
              "      <th>petal width (cm)</th>\n",
              "      <th>target</th>\n",
              "    </tr>\n",
              "  </thead>\n",
              "  <tbody>\n",
              "    <tr>\n",
              "      <th>145</th>\n",
              "      <td>6.7</td>\n",
              "      <td>3.0</td>\n",
              "      <td>5.2</td>\n",
              "      <td>2.3</td>\n",
              "      <td>2.0</td>\n",
              "    </tr>\n",
              "    <tr>\n",
              "      <th>146</th>\n",
              "      <td>6.3</td>\n",
              "      <td>2.5</td>\n",
              "      <td>5.0</td>\n",
              "      <td>1.9</td>\n",
              "      <td>2.0</td>\n",
              "    </tr>\n",
              "    <tr>\n",
              "      <th>147</th>\n",
              "      <td>6.5</td>\n",
              "      <td>3.0</td>\n",
              "      <td>5.2</td>\n",
              "      <td>2.0</td>\n",
              "      <td>2.0</td>\n",
              "    </tr>\n",
              "    <tr>\n",
              "      <th>148</th>\n",
              "      <td>6.2</td>\n",
              "      <td>3.4</td>\n",
              "      <td>5.4</td>\n",
              "      <td>2.3</td>\n",
              "      <td>2.0</td>\n",
              "    </tr>\n",
              "    <tr>\n",
              "      <th>149</th>\n",
              "      <td>5.9</td>\n",
              "      <td>3.0</td>\n",
              "      <td>5.1</td>\n",
              "      <td>1.8</td>\n",
              "      <td>2.0</td>\n",
              "    </tr>\n",
              "  </tbody>\n",
              "</table>\n",
              "</div>"
            ],
            "text/plain": [
              "     sepal length (cm)  sepal width (cm)  ...  petal width (cm)  target\n",
              "145                6.7               3.0  ...               2.3     2.0\n",
              "146                6.3               2.5  ...               1.9     2.0\n",
              "147                6.5               3.0  ...               2.0     2.0\n",
              "148                6.2               3.4  ...               2.3     2.0\n",
              "149                5.9               3.0  ...               1.8     2.0\n",
              "\n",
              "[5 rows x 5 columns]"
            ]
          },
          "metadata": {
            "tags": []
          },
          "execution_count": 83
        }
      ]
    },
    {
      "cell_type": "markdown",
      "metadata": {
        "id": "DSDjb954kX7q"
      },
      "source": [
        "# **Splitting into train and test set**"
      ]
    },
    {
      "cell_type": "code",
      "metadata": {
        "id": "_Qi7dboxkDx0"
      },
      "source": [
        "X = df.iloc[:,:-1].values\n",
        "y = df.iloc[:,-1].values"
      ],
      "execution_count": 84,
      "outputs": []
    },
    {
      "cell_type": "code",
      "metadata": {
        "id": "a6-UcfdFmc7A"
      },
      "source": [
        "X_train,X_test,y_train,y_test = train_test_split(X,y,test_size=0.2,random_state=33)"
      ],
      "execution_count": 85,
      "outputs": []
    },
    {
      "cell_type": "code",
      "metadata": {
        "id": "zf8ZB4NJmyOS"
      },
      "source": [
        "X_train = torch.FloatTensor(X_train)\n",
        "X_test = torch.FloatTensor(X_test)\n",
        "y_train =  torch.LongTensor(y_train)\n",
        "y_test =  torch.LongTensor(y_test)"
      ],
      "execution_count": 86,
      "outputs": []
    },
    {
      "cell_type": "code",
      "metadata": {
        "id": "4Q-8K-vlnQN6"
      },
      "source": [
        "criterion = nn.CrossEntropyLoss() #Multiclass classification Problem\n",
        "optimizer = torch.optim.Adam(model.parameters(),lr=0.01)"
      ],
      "execution_count": 87,
      "outputs": []
    },
    {
      "cell_type": "markdown",
      "metadata": {
        "id": "NnJBeA1TnxZg"
      },
      "source": [
        "# **Training the model**"
      ]
    },
    {
      "cell_type": "code",
      "metadata": {
        "colab": {
          "base_uri": "https://localhost:8080/"
        },
        "id": "R4UBtstUnWEv",
        "outputId": "5285c291-ad31-46a0-e875-ff5806fdf5a1"
      },
      "source": [
        "epochs = 100\n",
        "losses = []\n",
        "for i in range(epochs):\n",
        "  y_pred = model.forward(X_train)\n",
        "  loss = criterion(y_pred,y_train)\n",
        "  losses.append(loss)\n",
        "  if i%10 ==0:\n",
        "    print(f'epoch {i} and loss-->{loss}')\n",
        "  optimizer.zero_grad()\n",
        "  loss.backward()\n",
        "  optimizer.step()"
      ],
      "execution_count": 88,
      "outputs": [
        {
          "output_type": "stream",
          "text": [
            "epoch 0 and loss-->1.1507114171981812\n",
            "epoch 10 and loss-->0.9377315044403076\n",
            "epoch 20 and loss-->0.7798256278038025\n",
            "epoch 30 and loss-->0.6099401712417603\n",
            "epoch 40 and loss-->0.40079936385154724\n",
            "epoch 50 and loss-->0.25436320900917053\n",
            "epoch 60 and loss-->0.15053054690361023\n",
            "epoch 70 and loss-->0.10086946934461594\n",
            "epoch 80 and loss-->0.08128312230110168\n",
            "epoch 90 and loss-->0.07231426239013672\n"
          ],
          "name": "stdout"
        }
      ]
    },
    {
      "cell_type": "code",
      "metadata": {
        "colab": {
          "base_uri": "https://localhost:8080/",
          "height": 299
        },
        "id": "_4zew0hWpr9H",
        "outputId": "0c989152-c15f-4c27-92f4-cfb74f303531"
      },
      "source": [
        "plt.plot(range(epochs),losses)\n",
        "plt.xlabel('Epochs')\n",
        "plt.ylabel('Loss')"
      ],
      "execution_count": 89,
      "outputs": [
        {
          "output_type": "execute_result",
          "data": {
            "text/plain": [
              "Text(0, 0.5, 'Loss')"
            ]
          },
          "metadata": {
            "tags": []
          },
          "execution_count": 89
        },
        {
          "output_type": "display_data",
          "data": {
            "image/png": "[encoded data removed]",
            "text/plain": [
              "<Figure size 432x288 with 1 Axes>"
            ]
          },
          "metadata": {
            "tags": [],
            "needs_background": "light"
          }
        }
      ]
    },
    {
      "cell_type": "markdown",
      "metadata": {
        "id": "2tS4oxdFqD8K"
      },
      "source": [
        "# **Validating the created model**"
      ]
    },
    {
      "cell_type": "code",
      "metadata": {
        "id": "S5PJgm5aqIq_"
      },
      "source": [
        "with torch.no_grad():\n",
        "  y_eval = model.forward(X_test)\n",
        "  loss = criterion(y_eval,y_test)"
      ],
      "execution_count": 92,
      "outputs": []
    },
    {
      "cell_type": "code",
      "metadata": {
        "colab": {
          "base_uri": "https://localhost:8080/"
        },
        "id": "qi-ZVqNLzLOf",
        "outputId": "4ba04f12-8bcc-4dc2-8e0b-866aaf4bf395"
      },
      "source": [
        "loss"
      ],
      "execution_count": 103,
      "outputs": [
        {
          "output_type": "execute_result",
          "data": {
            "text/plain": [
              "tensor(0.0581)"
            ]
          },
          "metadata": {
            "tags": []
          },
          "execution_count": 103
        }
      ]
    },
    {
      "cell_type": "code",
      "metadata": {
        "colab": {
          "base_uri": "https://localhost:8080/"
        },
        "id": "xX9tKGDkzQM_",
        "outputId": "317aa055-ebe2-41dc-8895-68ce83c3ac56"
      },
      "source": [
        "correct = 0\n",
        "with torch.no_grad():\n",
        "  for i,data in enumerate(X_test):\n",
        "    y_val = model.forward(data)\n",
        "    print(f'{i+1} -->{str(y_val.argmax().item())} ---> {y_test[i]}')\n",
        "    if y_val.argmax().item() == y_test[i]:\n",
        "      correct += 1"
      ],
      "execution_count": 115,
      "outputs": [
        {
          "output_type": "stream",
          "text": [
            "1 -->1 ---> 1\n",
            "2 -->1 ---> 1\n",
            "3 -->0 ---> 0\n",
            "4 -->1 ---> 1\n",
            "5 -->2 ---> 2\n",
            "6 -->2 ---> 2\n",
            "7 -->0 ---> 0\n",
            "8 -->0 ---> 0\n",
            "9 -->2 ---> 2\n",
            "10 -->2 ---> 2\n",
            "11 -->2 ---> 2\n",
            "12 -->0 ---> 0\n",
            "13 -->2 ---> 2\n",
            "14 -->1 ---> 1\n",
            "15 -->2 ---> 2\n",
            "16 -->1 ---> 1\n",
            "17 -->2 ---> 2\n",
            "18 -->0 ---> 0\n",
            "19 -->1 ---> 1\n",
            "20 -->2 ---> 2\n",
            "21 -->0 ---> 0\n",
            "22 -->0 ---> 0\n",
            "23 -->2 ---> 2\n",
            "24 -->0 ---> 0\n",
            "25 -->2 ---> 2\n",
            "26 -->2 ---> 2\n",
            "27 -->1 ---> 1\n",
            "28 -->1 ---> 1\n",
            "29 -->2 ---> 2\n",
            "30 -->2 ---> 2\n"
          ],
          "name": "stdout"
        }
      ]
    },
    {
      "cell_type": "code",
      "metadata": {
        "colab": {
          "base_uri": "https://localhost:8080/"
        },
        "id": "Vk8McKbT1jky",
        "outputId": "ce1399c7-9037-4c6f-c782-13de757dee5a"
      },
      "source": [
        "print(f'{correct } Predictions !!')"
      ],
      "execution_count": 118,
      "outputs": [
        {
          "output_type": "stream",
          "text": [
            "30 Predictions !!\n"
          ],
          "name": "stdout"
        }
      ]
    },
    {
      "cell_type": "markdown",
      "metadata": {
        "id": "DtWqb55L1v9x"
      },
      "source": [
        "# **Saving the trained model**"
      ]
    },
    {
      "cell_type": "code",
      "metadata": {
        "id": "9Zs78svw1zXs"
      },
      "source": [
        "torch.save(model.state_dict(),'my_iris_model.pt') # model needs to be passed directly if the Model class is to be saved as well"
      ],
      "execution_count": 119,
      "outputs": []
    },
    {
      "cell_type": "markdown",
      "metadata": {
        "id": "Grqn7hj22FYa"
      },
      "source": [
        "# **Importing from the saved model file**"
      ]
    },
    {
      "cell_type": "code",
      "metadata": {
        "colab": {
          "base_uri": "https://localhost:8080/"
        },
        "id": "bFoXNbGU2KWO",
        "outputId": "798cd946-60be-4ef4-cb1a-75d909b10a04"
      },
      "source": [
        "new_model = Model()\n",
        "new_model.load_state_dict(torch.load('my_iris_model.pt'))"
      ],
      "execution_count": 120,
      "outputs": [
        {
          "output_type": "execute_result",
          "data": {
            "text/plain": [
              "<All keys matched successfully>"
            ]
          },
          "metadata": {
            "tags": []
          },
          "execution_count": 120
        }
      ]
    },
    {
      "cell_type": "code",
      "metadata": {
        "colab": {
          "base_uri": "https://localhost:8080/"
        },
        "id": "BG5Toto32UYc",
        "outputId": "b88e5881-1585-40b8-a0ee-bab5544a1a23"
      },
      "source": [
        "new_model.eval()"
      ],
      "execution_count": 121,
      "outputs": [
        {
          "output_type": "execute_result",
          "data": {
            "text/plain": [
              "Model(\n",
              "  (fc1): Linear(in_features=4, out_features=8, bias=True)\n",
              "  (fc2): Linear(in_features=8, out_features=9, bias=True)\n",
              "  (out): Linear(in_features=9, out_features=3, bias=True)\n",
              ")"
            ]
          },
          "metadata": {
            "tags": []
          },
          "execution_count": 121
        }
      ]
    },
    {
      "cell_type": "markdown",
      "metadata": {
        "id": "9FW3z1dM2t29"
      },
      "source": [
        "# **Classifying new data**"
      ]
    },
    {
      "cell_type": "code",
      "metadata": {
        "id": "7T8Yx_KY2XqM"
      },
      "source": [
        "mystery_iris = torch.tensor([5.6,3.7,2.2,0.5]) # New Data point"
      ],
      "execution_count": 123,
      "outputs": []
    },
    {
      "cell_type": "code",
      "metadata": {
        "colab": {
          "base_uri": "https://localhost:8080/"
        },
        "id": "kb6CFO5_3A7C",
        "outputId": "e470ffe4-330d-4b9f-9b5f-218534801dfd"
      },
      "source": [
        "with torch.no_grad():\n",
        "  print(f'It belongs to Class {new_model(mystery_iris).argmax().item()}')"
      ],
      "execution_count": 129,
      "outputs": [
        {
          "output_type": "stream",
          "text": [
            "It belongs to Class 0\n"
          ],
          "name": "stdout"
        }
      ]
    }
  ]
}